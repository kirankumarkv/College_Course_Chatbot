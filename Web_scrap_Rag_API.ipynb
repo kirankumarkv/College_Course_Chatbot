{
  "nbformat": 4,
  "nbformat_minor": 0,
  "metadata": {
    "colab": {
      "provenance": []
    },
    "kernelspec": {
      "name": "python3",
      "display_name": "Python 3"
    },
    "language_info": {
      "name": "python"
    }
  },
  "cells": [
    {
      "cell_type": "code",
      "execution_count": 70,
      "metadata": {
        "colab": {
          "base_uri": "https://localhost:8080/"
        },
        "id": "BpSx__bxwg4f",
        "outputId": "9b88ebaf-1321-4930-fb58-44a248dac5ec"
      },
      "outputs": [
        {
          "output_type": "stream",
          "name": "stderr",
          "text": [
            "[nltk_data] Downloading package stopwords to /root/nltk_data...\n",
            "[nltk_data]   Package stopwords is already up-to-date!\n",
            "[nltk_data] Downloading package punkt to /root/nltk_data...\n",
            "[nltk_data]   Package punkt is already up-to-date!\n",
            "[nltk_data] Downloading package punkt_tab to /root/nltk_data...\n",
            "[nltk_data]   Package punkt_tab is already up-to-date!\n"
          ]
        }
      ],
      "source": [
        "import nltk\n",
        "nltk.download('stopwords')\n",
        "nltk.download('punkt')\n",
        "nltk.download('punkt_tab')\n",
        "# Ensure punkt resource is downloaded\n",
        "try:\n",
        "    nltk.data.find('tokenizers/punkt')\n",
        "except LookupError:\n",
        "    print(\"Downloading 'punkt' tokenizer...\")\n",
        "    nltk.download('punkt')"
      ]
    },
    {
      "cell_type": "code",
      "source": [
        "import re\n",
        "import nltk\n",
        "\n",
        "from nltk.corpus import stopwords\n",
        "from nltk.tokenize import word_tokenize\n",
        "\n",
        "nltk.download('punkt_tab')\n",
        "\n",
        "# Define the text preprocessing function\n",
        "def preprocess_text(text):\n",
        "    print(f\"Original Text: {text[:100]}...\")  # Display the first 100 characters of the original text\n",
        "\n",
        "    # Step 1: Remove special characters and extra spaces\n",
        "    clean_text = re.sub(r'[^\\w\\s]', '', text)  # Remove punctuation and special characters\n",
        "    clean_text = re.sub(r'\\s+', ' ', clean_text).strip()  # Normalize whitespace\n",
        "    print(f\"After Removing Special Characters: {clean_text[:100]}...\")\n",
        "\n",
        "    # Step 2: Convert text to lowercase\n",
        "    clean_text = clean_text.lower()\n",
        "    print(f\"After Converting to Lowercase: {clean_text[:100]}...\")\n",
        "\n",
        "    # Step 3: Tokenize the text\n",
        "    words = word_tokenize(clean_text)\n",
        "    print(f\"Tokenized Words: {words[:10]}...\")  # Display the first 10 words\n",
        "\n",
        "    # Step 4: Remove stopwords\n",
        "    stop_words = set(stopwords.words('english'))\n",
        "    filtered_words = [word for word in words if word not in stop_words]\n",
        "    print(f\"After Removing Stopwords: {' '.join(filtered_words[:20])}...\")  # Display the first 20 filtered words\n",
        "\n",
        "    # Step 5: apply stemming or lemmatization (commented here for modularity)\n",
        "    # from nltk.stem import PorterStemmer\n",
        "    # stemmer = PorterStemmer()\n",
        "    # stemmed_words = [stemmer.stem(word) for word in filtered_words]\n",
        "    # print(f\"After Stemming: {' '.join(stemmed_words[:20])}...\")\n",
        "\n",
        "    return ' '.join(filtered_words)\n",
        "\n",
        "# Example Usage\n",
        "sample_text = \"\"\"\n",
        "Natural Language Processing is a fascinating field of AI. It includes Text Preprocessing, Machine Learning, and more!\n",
        "\"\"\"\n",
        "preprocessed_text = preprocess_text(sample_text)\n",
        "print(f\"Final Preprocessed Text: {preprocessed_text[:100]}...\")\n"
      ],
      "metadata": {
        "colab": {
          "base_uri": "https://localhost:8080/"
        },
        "id": "LjYr2xekwkp4",
        "outputId": "33a104af-2c47-4917-98ce-f82f79a19f4a"
      },
      "execution_count": 71,
      "outputs": [
        {
          "output_type": "stream",
          "name": "stdout",
          "text": [
            "Original Text: \n",
            "Natural Language Processing is a fascinating field of AI. It includes Text Preprocessing, Machine L...\n",
            "After Removing Special Characters: Natural Language Processing is a fascinating field of AI It includes Text Preprocessing Machine Lear...\n",
            "After Converting to Lowercase: natural language processing is a fascinating field of ai it includes text preprocessing machine lear...\n",
            "Tokenized Words: ['natural', 'language', 'processing', 'is', 'a', 'fascinating', 'field', 'of', 'ai', 'it']...\n",
            "After Removing Stopwords: natural language processing fascinating field ai includes text preprocessing machine learning...\n",
            "Final Preprocessed Text: natural language processing fascinating field ai includes text preprocessing machine learning...\n"
          ]
        },
        {
          "output_type": "stream",
          "name": "stderr",
          "text": [
            "[nltk_data] Downloading package punkt_tab to /root/nltk_data...\n",
            "[nltk_data]   Package punkt_tab is already up-to-date!\n"
          ]
        }
      ]
    },
    {
      "cell_type": "code",
      "source": [
        "import requests\n",
        "from bs4 import BeautifulSoup\n",
        "\n",
        "\n",
        "# Define function to scrape MIT OpenCourseWare course details\n",
        "def scrape_mit_ocw_course(url):\n",
        "    try:\n",
        "        print(f\"Fetching page content from: {url}\")\n",
        "        response = requests.get(url)\n",
        "        response.raise_for_status()  # Raise HTTPError for bad responses\n",
        "        soup = BeautifulSoup(response.content, 'html.parser')\n",
        "        print(\"Page content fetched successfully!\")\n",
        "\n",
        "        # Extract course title\n",
        "        title_element = soup.find('h1')\n",
        "        course_title = title_element.get_text(strip=True) if title_element else \"N/A\"\n",
        "        print(f\"Course Title: {course_title}\")\n",
        "\n",
        "        # Extract course description\n",
        "        description_element = soup.find('div', id='expanded-description')  # Check the ID or class\n",
        "        course_description = description_element.get_text(strip=True) if description_element else \"N/A\"\n",
        "        print(f\"Course Description: {course_description[:100]}...\")  # Show first 100 characters\n",
        "\n",
        "        # Extract syllabus link\n",
        "        syllabus_link_element = soup.find('a', href=True, text=\"Syllabus\")\n",
        "        syllabus_link = f\"https://ocw.mit.edu{syllabus_link_element['href']}\" if syllabus_link_element else \"N/A\"\n",
        "        print(f\"Syllabus Link: {syllabus_link}\")\n",
        "\n",
        "        # Extract lecture videos link\n",
        "        lecture_videos_element = soup.find('a', href=True, text=\"Lecture Videos\")\n",
        "        lecture_videos_link = f\"https://ocw.mit.edu{lecture_videos_element['href']}\" if lecture_videos_element else \"N/A\"\n",
        "        print(f\"Lecture Videos Link: {lecture_videos_link}\")\n",
        "\n",
        "        # Extract instructor names\n",
        "        instructors = [\n",
        "            preprocess_text(instr.get_text())\n",
        "            for instr in soup.select('.course-info-instructor')\n",
        "        ]\n",
        "        print(f\"Instructors: {instructors}\")\n",
        "\n",
        "        # Extract topics\n",
        "        topics = [\n",
        "            preprocess_text(topic.get_text())\n",
        "            for topic in soup.select('.topic-text-wrapper a')\n",
        "        ]\n",
        "        print(f\"Topics: {topics}\")\n",
        "\n",
        "        # Extract learning resource types\n",
        "        resources = [\n",
        "            preprocess_text(resource.get_text())\n",
        "            for resource in soup.select('.learning-resource-type-item span')\n",
        "        ]\n",
        "        print(f\"Learning Resources: {resources}\")\n",
        "\n",
        "        # Structure scraped data\n",
        "        course_data = {\n",
        "            \"course_title\": preprocess_text(course_title),\n",
        "            \"course_description\": preprocess_text(course_description),\n",
        "            \"syllabus_link\": syllabus_link,\n",
        "            \"lecture_videos_link\": lecture_videos_link,\n",
        "            \"instructors\": instructors,\n",
        "            \"topics\": topics,\n",
        "            \"learning_resources\": resources\n",
        "        }\n",
        "        print(\"Data scraping and preprocessing complete!\")\n",
        "        return course_data\n",
        "\n",
        "    except Exception as e:\n",
        "        print(f\"An error occurred: {e}\")\n",
        "        return {}\n",
        "\n",
        "# Example usage:\n",
        "url = \"https://ocw.mit.edu/courses/electrical-engineering-and-computer-science/6-034-artificial-intelligence-fall-2010/\"\n",
        "data = scrape_mit_ocw_course(url)\n",
        "print(data)\n"
      ],
      "metadata": {
        "colab": {
          "base_uri": "https://localhost:8080/"
        },
        "id": "U2rliwyewtA3",
        "outputId": "b92bc914-e3a5-4684-c905-dc8263ba5151"
      },
      "execution_count": 72,
      "outputs": [
        {
          "output_type": "stream",
          "name": "stdout",
          "text": [
            "Fetching page content from: https://ocw.mit.edu/courses/electrical-engineering-and-computer-science/6-034-artificial-intelligence-fall-2010/\n",
            "Page content fetched successfully!\n",
            "Course Title: Artificial Intelligence\n",
            "Course Description: This course introduces students to the basic knowledge representation, problem solving, and learning...\n",
            "Syllabus Link: N/A\n",
            "Lecture Videos Link: N/A\n",
            "Original Text: Patrick Henry Winston...\n",
            "After Removing Special Characters: Patrick Henry Winston...\n",
            "After Converting to Lowercase: patrick henry winston...\n",
            "Tokenized Words: ['patrick', 'henry', 'winston']...\n",
            "After Removing Stopwords: patrick henry winston...\n",
            "Original Text: Patrick Henry Winston...\n",
            "After Removing Special Characters: Patrick Henry Winston...\n",
            "After Converting to Lowercase: patrick henry winston...\n",
            "Tokenized Words: ['patrick', 'henry', 'winston']...\n",
            "After Removing Stopwords: patrick henry winston...\n",
            "Instructors: ['patrick henry winston', 'patrick henry winston']\n",
            "Original Text: Engineering...\n",
            "After Removing Special Characters: Engineering...\n",
            "After Converting to Lowercase: engineering...\n",
            "Tokenized Words: ['engineering']...\n",
            "After Removing Stopwords: engineering...\n",
            "Original Text: Computer Science...\n",
            "After Removing Special Characters: Computer Science...\n",
            "After Converting to Lowercase: computer science...\n",
            "Tokenized Words: ['computer', 'science']...\n",
            "After Removing Stopwords: computer science...\n",
            "Original Text: Algorithms and Data Structures...\n",
            "After Removing Special Characters: Algorithms and Data Structures...\n",
            "After Converting to Lowercase: algorithms and data structures...\n",
            "Tokenized Words: ['algorithms', 'and', 'data', 'structures']...\n",
            "After Removing Stopwords: algorithms data structures...\n",
            "Original Text: Artificial Intelligence...\n",
            "After Removing Special Characters: Artificial Intelligence...\n",
            "After Converting to Lowercase: artificial intelligence...\n",
            "Tokenized Words: ['artificial', 'intelligence']...\n",
            "After Removing Stopwords: artificial intelligence...\n",
            "Original Text: Theory of Computation...\n",
            "After Removing Special Characters: Theory of Computation...\n",
            "After Converting to Lowercase: theory of computation...\n",
            "Tokenized Words: ['theory', 'of', 'computation']...\n",
            "After Removing Stopwords: theory computation...\n",
            "Original Text: Engineering...\n",
            "After Removing Special Characters: Engineering...\n",
            "After Converting to Lowercase: engineering...\n",
            "Tokenized Words: ['engineering']...\n",
            "After Removing Stopwords: engineering...\n",
            "Original Text: Computer Science...\n",
            "After Removing Special Characters: Computer Science...\n",
            "After Converting to Lowercase: computer science...\n",
            "Tokenized Words: ['computer', 'science']...\n",
            "After Removing Stopwords: computer science...\n",
            "Original Text: Algorithms and Data Structures...\n",
            "After Removing Special Characters: Algorithms and Data Structures...\n",
            "After Converting to Lowercase: algorithms and data structures...\n",
            "Tokenized Words: ['algorithms', 'and', 'data', 'structures']...\n",
            "After Removing Stopwords: algorithms data structures...\n",
            "Original Text: Artificial Intelligence...\n",
            "After Removing Special Characters: Artificial Intelligence...\n",
            "After Converting to Lowercase: artificial intelligence...\n",
            "Tokenized Words: ['artificial', 'intelligence']...\n",
            "After Removing Stopwords: artificial intelligence...\n",
            "Original Text: Theory of Computation...\n",
            "After Removing Special Characters: Theory of Computation...\n",
            "After Converting to Lowercase: theory of computation...\n",
            "Tokenized Words: ['theory', 'of', 'computation']...\n",
            "After Removing Stopwords: theory computation...\n",
            "Topics: ['engineering', 'computer science', 'algorithms data structures', 'artificial intelligence', 'theory computation', 'engineering', 'computer science', 'algorithms data structures', 'artificial intelligence', 'theory computation']\n",
            "Original Text: Exams...\n",
            "After Removing Special Characters: Exams...\n",
            "After Converting to Lowercase: exams...\n",
            "Tokenized Words: ['exams']...\n",
            "After Removing Stopwords: exams...\n",
            "Original Text: Lecture Videos...\n",
            "After Removing Special Characters: Lecture Videos...\n",
            "After Converting to Lowercase: lecture videos...\n",
            "Tokenized Words: ['lecture', 'videos']...\n",
            "After Removing Stopwords: lecture videos...\n",
            "Original Text: Recitation Videos...\n",
            "After Removing Special Characters: Recitation Videos...\n",
            "After Converting to Lowercase: recitation videos...\n",
            "Tokenized Words: ['recitation', 'videos']...\n",
            "After Removing Stopwords: recitation videos...\n",
            "Original Text: Programming Assignments...\n",
            "After Removing Special Characters: Programming Assignments...\n",
            "After Converting to Lowercase: programming assignments...\n",
            "Tokenized Words: ['programming', 'assignments']...\n",
            "After Removing Stopwords: programming assignments...\n",
            "Original Text: \n",
            "        co_present\n",
            "      ...\n",
            "After Removing Special Characters: co_present...\n",
            "After Converting to Lowercase: co_present...\n",
            "Tokenized Words: ['co_present']...\n",
            "After Removing Stopwords: co_present...\n",
            "Original Text: Instructor Insights...\n",
            "After Removing Special Characters: Instructor Insights...\n",
            "After Converting to Lowercase: instructor insights...\n",
            "Tokenized Words: ['instructor', 'insights']...\n",
            "After Removing Stopwords: instructor insights...\n",
            "Learning Resources: ['exams', 'lecture videos', 'recitation videos', 'programming assignments', 'co_present', 'instructor insights']\n",
            "Original Text: Artificial Intelligence...\n",
            "After Removing Special Characters: Artificial Intelligence...\n",
            "After Converting to Lowercase: artificial intelligence...\n",
            "Tokenized Words: ['artificial', 'intelligence']...\n",
            "After Removing Stopwords: artificial intelligence...\n",
            "Original Text: This course introduces students to the basic knowledge representation, problem solving, and learning...\n",
            "After Removing Special Characters: This course introduces students to the basic knowledge representation problem solving and learning m...\n",
            "After Converting to Lowercase: this course introduces students to the basic knowledge representation problem solving and learning m...\n",
            "Tokenized Words: ['this', 'course', 'introduces', 'students', 'to', 'the', 'basic', 'knowledge', 'representation', 'problem']...\n",
            "After Removing Stopwords: course introduces students basic knowledge representation problem solving learning methods artificial intelligence upon completion 6034 students able develop intelligent systems...\n",
            "Data scraping and preprocessing complete!\n",
            "{'course_title': 'artificial intelligence', 'course_description': 'course introduces students basic knowledge representation problem solving learning methods artificial intelligence upon completion 6034 students able develop intelligent systems assembling solutions concrete computational problems understand role knowledge representation problem solving learning intelligentsystem engineering appreciate role problem solving vision language understanding human intelligence computational perspectiveshow less', 'syllabus_link': 'N/A', 'lecture_videos_link': 'N/A', 'instructors': ['patrick henry winston', 'patrick henry winston'], 'topics': ['engineering', 'computer science', 'algorithms data structures', 'artificial intelligence', 'theory computation', 'engineering', 'computer science', 'algorithms data structures', 'artificial intelligence', 'theory computation'], 'learning_resources': ['exams', 'lecture videos', 'recitation videos', 'programming assignments', 'co_present', 'instructor insights']}\n"
          ]
        },
        {
          "output_type": "stream",
          "name": "stderr",
          "text": [
            "<ipython-input-72-93fb3a6fedf0>:25: DeprecationWarning: The 'text' argument to find()-type methods is deprecated. Use 'string' instead.\n",
            "  syllabus_link_element = soup.find('a', href=True, text=\"Syllabus\")\n",
            "<ipython-input-72-93fb3a6fedf0>:30: DeprecationWarning: The 'text' argument to find()-type methods is deprecated. Use 'string' instead.\n",
            "  lecture_videos_element = soup.find('a', href=True, text=\"Lecture Videos\")\n"
          ]
        }
      ]
    },
    {
      "cell_type": "code",
      "source": [
        "import json\n",
        "\n",
        "with open(\"MIT_Course_Data.json\", \"w\") as file:\n",
        "    json.dump(data, file, indent=4)\n",
        "print(\"Data saved to MIT_Course_Data.json\")"
      ],
      "metadata": {
        "colab": {
          "base_uri": "https://localhost:8080/"
        },
        "id": "Gba3GL6owy2g",
        "outputId": "f1985176-90b6-4d34-a5c7-d23918d74bfc"
      },
      "execution_count": 73,
      "outputs": [
        {
          "output_type": "stream",
          "name": "stdout",
          "text": [
            "Data saved to MIT_Course_Data.json\n"
          ]
        }
      ]
    },
    {
      "cell_type": "code",
      "source": [
        "from wordcloud import WordCloud\n",
        "import matplotlib.pyplot as plt\n",
        "from collections import Counter\n",
        "\n",
        "# Visualize course topics in a word cloud\n",
        "if data[\"topics\"]:\n",
        "    topics_text = ' '.join(data[\"topics\"])\n",
        "    wordcloud = WordCloud(width=800, height=400, background_color='white').generate(topics_text)\n",
        "    plt.figure(figsize=(10, 5))\n",
        "    plt.imshow(wordcloud, interpolation='bilinear')\n",
        "    plt.axis('off')\n",
        "    plt.title(\"Word Cloud of Course Topics\")\n",
        "    plt.show()\n",
        "\n",
        "# Frequency analysis\n",
        "if data[\"topics\"]:\n",
        "    topics_freq = Counter(data[\"topics\"])\n",
        "    print(\"Most Common Topics:\", topics_freq.most_common(5))\n"
      ],
      "metadata": {
        "colab": {
          "base_uri": "https://localhost:8080/",
          "height": 481
        },
        "id": "g35Ok4TAw0MB",
        "outputId": "b1861717-0e9e-41e2-b8d2-50c75f0bcabc"
      },
      "execution_count": 74,
      "outputs": [
        {
          "output_type": "display_data",
          "data": {
            "text/plain": [
              "<Figure size 1000x500 with 1 Axes>"
            ],
            "image/png": "[encoded data removed]"
          },
          "metadata": {}
        },
        {
          "output_type": "stream",
          "name": "stdout",
          "text": [
            "Most Common Topics: [('engineering', 2), ('computer science', 2), ('algorithms data structures', 2), ('artificial intelligence', 2), ('theory computation', 2)]\n"
          ]
        }
      ]
    },
    {
      "cell_type": "code",
      "source": [
        "!pip install faiss-cpu\n",
        "!pip install sentence-transformers"
      ],
      "metadata": {
        "colab": {
          "base_uri": "https://localhost:8080/"
        },
        "id": "tPvEAViGxffX",
        "outputId": "58d460aa-0067-4c47-a92c-8cc53d4b356f"
      },
      "execution_count": 75,
      "outputs": [
        {
          "output_type": "stream",
          "name": "stdout",
          "text": [
            "Requirement already satisfied: faiss-cpu in /usr/local/lib/python3.10/dist-packages (1.9.0.post1)\n",
            "Requirement already satisfied: numpy<3.0,>=1.25.0 in /usr/local/lib/python3.10/dist-packages (from faiss-cpu) (1.26.4)\n",
            "Requirement already satisfied: packaging in /usr/local/lib/python3.10/dist-packages (from faiss-cpu) (24.2)\n",
            "Requirement already satisfied: sentence-transformers in /usr/local/lib/python3.10/dist-packages (3.2.1)\n",
            "Requirement already satisfied: transformers<5.0.0,>=4.41.0 in /usr/local/lib/python3.10/dist-packages (from sentence-transformers) (4.46.3)\n",
            "Requirement already satisfied: tqdm in /usr/local/lib/python3.10/dist-packages (from sentence-transformers) (4.66.6)\n",
            "Requirement already satisfied: torch>=1.11.0 in /usr/local/lib/python3.10/dist-packages (from sentence-transformers) (2.5.1+cu121)\n",
            "Requirement already satisfied: scikit-learn in /usr/local/lib/python3.10/dist-packages (from sentence-transformers) (1.5.2)\n",
            "Requirement already satisfied: scipy in /usr/local/lib/python3.10/dist-packages (from sentence-transformers) (1.13.1)\n",
            "Requirement already satisfied: huggingface-hub>=0.20.0 in /usr/local/lib/python3.10/dist-packages (from sentence-transformers) (0.26.3)\n",
            "Requirement already satisfied: Pillow in /usr/local/lib/python3.10/dist-packages (from sentence-transformers) (11.0.0)\n",
            "Requirement already satisfied: filelock in /usr/local/lib/python3.10/dist-packages (from huggingface-hub>=0.20.0->sentence-transformers) (3.16.1)\n",
            "Requirement already satisfied: fsspec>=2023.5.0 in /usr/local/lib/python3.10/dist-packages (from huggingface-hub>=0.20.0->sentence-transformers) (2024.10.0)\n",
            "Requirement already satisfied: packaging>=20.9 in /usr/local/lib/python3.10/dist-packages (from huggingface-hub>=0.20.0->sentence-transformers) (24.2)\n",
            "Requirement already satisfied: pyyaml>=5.1 in /usr/local/lib/python3.10/dist-packages (from huggingface-hub>=0.20.0->sentence-transformers) (6.0.2)\n",
            "Requirement already satisfied: requests in /usr/local/lib/python3.10/dist-packages (from huggingface-hub>=0.20.0->sentence-transformers) (2.32.3)\n",
            "Requirement already satisfied: typing-extensions>=3.7.4.3 in /usr/local/lib/python3.10/dist-packages (from huggingface-hub>=0.20.0->sentence-transformers) (4.12.2)\n",
            "Requirement already satisfied: networkx in /usr/local/lib/python3.10/dist-packages (from torch>=1.11.0->sentence-transformers) (3.4.2)\n",
            "Requirement already satisfied: jinja2 in /usr/local/lib/python3.10/dist-packages (from torch>=1.11.0->sentence-transformers) (3.1.4)\n",
            "Requirement already satisfied: sympy==1.13.1 in /usr/local/lib/python3.10/dist-packages (from torch>=1.11.0->sentence-transformers) (1.13.1)\n",
            "Requirement already satisfied: mpmath<1.4,>=1.1.0 in /usr/local/lib/python3.10/dist-packages (from sympy==1.13.1->torch>=1.11.0->sentence-transformers) (1.3.0)\n",
            "Requirement already satisfied: numpy>=1.17 in /usr/local/lib/python3.10/dist-packages (from transformers<5.0.0,>=4.41.0->sentence-transformers) (1.26.4)\n",
            "Requirement already satisfied: regex!=2019.12.17 in /usr/local/lib/python3.10/dist-packages (from transformers<5.0.0,>=4.41.0->sentence-transformers) (2024.9.11)\n",
            "Requirement already satisfied: tokenizers<0.21,>=0.20 in /usr/local/lib/python3.10/dist-packages (from transformers<5.0.0,>=4.41.0->sentence-transformers) (0.20.3)\n",
            "Requirement already satisfied: safetensors>=0.4.1 in /usr/local/lib/python3.10/dist-packages (from transformers<5.0.0,>=4.41.0->sentence-transformers) (0.4.5)\n",
            "Requirement already satisfied: joblib>=1.2.0 in /usr/local/lib/python3.10/dist-packages (from scikit-learn->sentence-transformers) (1.4.2)\n",
            "Requirement already satisfied: threadpoolctl>=3.1.0 in /usr/local/lib/python3.10/dist-packages (from scikit-learn->sentence-transformers) (3.5.0)\n",
            "Requirement already satisfied: MarkupSafe>=2.0 in /usr/local/lib/python3.10/dist-packages (from jinja2->torch>=1.11.0->sentence-transformers) (2.1.5)\n",
            "Requirement already satisfied: charset-normalizer<4,>=2 in /usr/local/lib/python3.10/dist-packages (from requests->huggingface-hub>=0.20.0->sentence-transformers) (3.4.0)\n",
            "Requirement already satisfied: idna<4,>=2.5 in /usr/local/lib/python3.10/dist-packages (from requests->huggingface-hub>=0.20.0->sentence-transformers) (3.10)\n",
            "Requirement already satisfied: urllib3<3,>=1.21.1 in /usr/local/lib/python3.10/dist-packages (from requests->huggingface-hub>=0.20.0->sentence-transformers) (2.2.3)\n",
            "Requirement already satisfied: certifi>=2017.4.17 in /usr/local/lib/python3.10/dist-packages (from requests->huggingface-hub>=0.20.0->sentence-transformers) (2024.8.30)\n"
          ]
        }
      ]
    },
    {
      "cell_type": "code",
      "source": [
        "# Retriever RAG\n",
        "import json\n",
        "import faiss\n",
        "from sentence_transformers import SentenceTransformer\n",
        "import numpy as np\n",
        "\n",
        "# Load the MIT OCW JSON data\n",
        "with open('MIT_Course_Data.json', 'r') as f:\n",
        "    data = json.load(f)\n",
        "\n",
        "# Check the structure of the loaded data\n",
        "print(f\"Data type: {type(data)}\")\n",
        "print(f\"Keys in the data: {data.keys()}\")  # List the keys of the dictionary\n",
        "\n",
        "# Since 'data' is a dictionary and represents one course, process it directly\n",
        "def preprocess_content(course_data):\n",
        "    try:\n",
        "        # Combine relevant fields into a single string for indexing\n",
        "        return f\"{course_data['course_title']} - {course_data['course_description']} Topics: {', '.join(course_data['topics'])}\"\n",
        "    except KeyError as e:\n",
        "        print(f\"Missing key: {e}\")\n",
        "        return \"\"\n",
        "\n",
        "# If your data contains multiple courses, you need to access them correctly\n",
        "# Assuming 'data' contains a list of course information under a key, modify the code:\n",
        "if isinstance(data, dict) and 'courses' in data:  # Adjust based on your actual data structure\n",
        "    courses = data['courses']\n",
        "    contents = [preprocess_content(course) for course in courses]\n",
        "else:\n",
        "    # If it's a single course dictionary, process it directly\n",
        "    contents = [preprocess_content(data)]\n",
        "\n",
        "# Output the results\n",
        "print(f\"Indexed {len(contents)} courses.\")\n",
        "print(contents[:5])  # Preview the first 5 indexed contents\n",
        "\n",
        "# Initialize the Sentence Transformer model\n",
        "model = SentenceTransformer('all-MiniLM-L6-v2')\n",
        "\n",
        "# Encode the content into embeddings\n",
        "encoded_embeddings = model.encode(contents, convert_to_tensor=True)\n",
        "\n",
        "# Convert the embeddings to numpy arrays (FAISS uses numpy)\n",
        "encoded_embeddings = np.array(encoded_embeddings)\n",
        "\n",
        "\n",
        "# Create a FAISS index (using L2 distance for similarity search)\n",
        "embedding_dimension = encoded_embeddings.shape[1]\n",
        "index = faiss.IndexFlatL2(embedding_dimension)\n",
        "\n",
        "# Add the embeddings to the FAISS index\n",
        "index.add(encoded_embeddings)\n",
        "print(f\"FAISS index built with {index.ntotal} vectors.\")\n",
        "\n",
        "\n",
        ""
      ],
      "metadata": {
        "colab": {
          "base_uri": "https://localhost:8080/"
        },
        "id": "1AhljRF2xqCO",
        "outputId": "63f07bfa-fe99-4ec4-c1bc-a172214e3e9d"
      },
      "execution_count": 76,
      "outputs": [
        {
          "output_type": "stream",
          "name": "stdout",
          "text": [
            "Data type: <class 'dict'>\n",
            "Keys in the data: dict_keys(['course_title', 'course_description', 'syllabus_link', 'lecture_videos_link', 'instructors', 'topics', 'learning_resources'])\n",
            "Indexed 1 courses.\n",
            "['artificial intelligence - course introduces students basic knowledge representation problem solving learning methods artificial intelligence upon completion 6034 students able develop intelligent systems assembling solutions concrete computational problems understand role knowledge representation problem solving learning intelligentsystem engineering appreciate role problem solving vision language understanding human intelligence computational perspectiveshow less Topics: engineering, computer science, algorithms data structures, artificial intelligence, theory computation, engineering, computer science, algorithms data structures, artificial intelligence, theory computation']\n",
            "FAISS index built with 1 vectors.\n"
          ]
        }
      ]
    },
    {
      "cell_type": "code",
      "source": [
        "# Function to retrieve the most relevant content for a given query\n",
        "def retrieve_content(query, top_k=1):\n",
        "    # Encode the query into an embedding\n",
        "    query_embedding = model.encode([query], convert_to_tensor=True)\n",
        "    query_embedding = np.array(query_embedding)\n",
        "\n",
        "    # Perform the similarity search (find top_k most similar entries)\n",
        "    distances, indices = index.search(query_embedding, top_k)\n",
        "\n",
        "    # Retrieve the content for the most similar indices\n",
        "    retrieved_content = [contents[i] for i in indices[0]]\n",
        "\n",
        "    # Print distances (optional, for debugging)\n",
        "    print(f\"Distances: {distances}\")\n",
        "\n",
        "    return retrieved_content\n",
        "\n",
        "# Example usage: Retrieve content based on a user query\n",
        "query = \"What do we learn in Artificial Intelligence course?\"\n",
        "retrieved_content = retrieve_content(query)\n",
        "\n",
        "# Display the retrieved content\n",
        "print(\"Retrieved Content:\")\n",
        "for content in retrieved_content:\n",
        "    print(content)\n"
      ],
      "metadata": {
        "colab": {
          "base_uri": "https://localhost:8080/"
        },
        "id": "8pFQ3kTYACto",
        "outputId": "9e095138-ba3e-40aa-925a-a19b3a252f11"
      },
      "execution_count": 78,
      "outputs": [
        {
          "output_type": "stream",
          "name": "stdout",
          "text": [
            "Distances: [[0.5925404]]\n",
            "Retrieved Content:\n",
            "artificial intelligence - course introduces students basic knowledge representation problem solving learning methods artificial intelligence upon completion 6034 students able develop intelligent systems assembling solutions concrete computational problems understand role knowledge representation problem solving learning intelligentsystem engineering appreciate role problem solving vision language understanding human intelligence computational perspectiveshow less Topics: engineering, computer science, algorithms data structures, artificial intelligence, theory computation, engineering, computer science, algorithms data structures, artificial intelligence, theory computation\n"
          ]
        }
      ]
    },
    {
      "cell_type": "code",
      "source": [
        "from transformers import pipeline\n",
        "\n",
        "# Load T5 model pipeline\n",
        "generator = pipeline(\"text2text-generation\", model=\"t5-small\", tokenizer=\"t5-small\")\n",
        "\n",
        "def generate_response(retrieved_content, query):\n",
        "    # Combine retrieved content\n",
        "    combined_content = \" \".join(retrieved_content)\n",
        "    prompt = f\"Answer the query based on the content: {combined_content}. Query: {query}\"\n",
        "\n",
        "    # Generate response\n",
        "    response = generator(prompt, max_length=150, do_sample=True, top_k=10, num_return_sequences=1)\n",
        "    return response[0]['generated_text']\n",
        "\n",
        "# Test the generator\n",
        "generated_response = generate_response(retrieved_content, query)\n",
        "print(f\"Generated Response: {generated_response}\")"
      ],
      "metadata": {
        "colab": {
          "base_uri": "https://localhost:8080/"
        },
        "id": "PgH3sZSdAZHR",
        "outputId": "54de8973-67de-40d4-d0dd-ab0a541519ae"
      },
      "execution_count": 81,
      "outputs": [
        {
          "output_type": "stream",
          "name": "stdout",
          "text": [
            "Generated Response: artificial intelligence courses artificial intelligence upon completion. Query: What do we learn in Artificial Intelligence course?\n"
          ]
        }
      ]
    },
    {
      "cell_type": "code",
      "source": [
        "import faiss\n",
        "from sentence_transformers import SentenceTransformer\n",
        "from transformers import pipeline\n",
        "import json\n",
        "import numpy as np\n",
        "\n",
        "# Load JSON data\n",
        "with open('MIT_Course_Data.json', 'r') as f:\n",
        "    course_data = json.load(f)\n",
        "\n",
        "# Ensure course_data is a list\n",
        "if isinstance(course_data, dict):  # Single course case\n",
        "    course_data = [course_data]\n",
        "\n",
        "# Step 1: Prepare Content for Indexing\n",
        "retriever_model = SentenceTransformer('all-MiniLM-L6-v2')\n",
        "\n",
        "def prepare_content_v2(course):\n",
        "    enriched_content = course.get('course_title', '') + ' ' + course.get('course_description', '')\n",
        "    return enriched_content\n",
        "\n",
        "# Prepare the corpus\n",
        "corpus = [prepare_content_v2(course) for course in course_data]\n",
        "corpus_embeddings = retriever_model.encode(corpus, convert_to_tensor=False)\n",
        "\n",
        "# Create the FAISS index\n",
        "dimension = corpus_embeddings.shape[1]\n",
        "index = faiss.IndexFlatL2(dimension)\n",
        "index.add(corpus_embeddings)\n",
        "\n",
        "print(f\"FAISS index created with {len(corpus)} items.\")\n",
        "\n",
        "# Step 2: Define Retriever\n",
        "def retrieve_content_v2(query, top_k=1):\n",
        "    query_embedding = retriever_model.encode([query], convert_to_tensor=False)\n",
        "    distances, indices = index.search(np.array(query_embedding).astype('float32'), top_k)\n",
        "    results = [corpus[idx] for idx in indices[0]]\n",
        "    return results\n",
        "\n",
        "# Step 3: Define Generator\n",
        "generator = pipeline(\"text2text-generation\", model=\"google/flan-t5-large\", tokenizer=\"google/flan-t5-large\")\n",
        "\n",
        "def generate_response_v2(retrieved_content, query):\n",
        "    prompt = f\"Use the following course content to answer the query:\\n\\n{retrieved_content}\\n\\nQuery: {query}\"\n",
        "    response = generator(prompt, max_length=150, do_sample=False, top_p=0.9, num_return_sequences=1)\n",
        "    return response[0]['generated_text']\n",
        "\n",
        "# Step 4: RAG Pipeline\n",
        "def rag_pipeline_v2(query):\n",
        "    print(f\"User Query: {query}\")\n",
        "\n",
        "    # Retrieve Content\n",
        "    retrieved = retrieve_content_v2(query)\n",
        "    print(f\"Retrieved Content: {retrieved}\")\n",
        "\n",
        "    # Generate Response\n",
        "    if not retrieved:\n",
        "        return \"No relevant content found.\"\n",
        "\n",
        "    response = generate_response_v2(retrieved[0], query)\n",
        "    print(f\"Generated Response: {response}\")\n",
        "    return response\n",
        "\n",
        "# Test the RAG Pipeline\n",
        "query = \"What do we learn in Artificial Intelligence course?\"\n",
        "response = rag_pipeline_v2(query)\n",
        "print(f\"\\nFinal Response: {response}\")\n"
      ],
      "metadata": {
        "colab": {
          "base_uri": "https://localhost:8080/"
        },
        "id": "v0rbGeOuB9hG",
        "outputId": "278e0fe2-227f-48e2-e0de-22113654e8fe"
      },
      "execution_count": 88,
      "outputs": [
        {
          "output_type": "stream",
          "name": "stdout",
          "text": [
            "FAISS index created with 1 items.\n",
            "User Query: What do we learn in Artificial Intelligence course?\n",
            "Retrieved Content: ['artificial intelligence course introduces students basic knowledge representation problem solving learning methods artificial intelligence upon completion 6034 students able develop intelligent systems assembling solutions concrete computational problems understand role knowledge representation problem solving learning intelligentsystem engineering appreciate role problem solving vision language understanding human intelligence computational perspectiveshow less']\n",
            "Generated Response: basic knowledge representation problem solving learning methods artificial intelligence\n",
            "\n",
            "Final Response: basic knowledge representation problem solving learning methods artificial intelligence\n"
          ]
        }
      ]
    },
    {
      "cell_type": "code",
      "source": [
        "!pip install gradio"
      ],
      "metadata": {
        "colab": {
          "base_uri": "https://localhost:8080/"
        },
        "id": "T_QvjEmQHSLJ",
        "outputId": "619ec0e9-f344-4b50-d467-9695b309fc08"
      },
      "execution_count": 89,
      "outputs": [
        {
          "output_type": "stream",
          "name": "stdout",
          "text": [
            "Requirement already satisfied: gradio in /usr/local/lib/python3.10/dist-packages (5.8.0)\n",
            "Requirement already satisfied: aiofiles<24.0,>=22.0 in /usr/local/lib/python3.10/dist-packages (from gradio) (23.2.1)\n",
            "Requirement already satisfied: anyio<5.0,>=3.0 in /usr/local/lib/python3.10/dist-packages (from gradio) (3.7.1)\n",
            "Requirement already satisfied: fastapi<1.0,>=0.115.2 in /usr/local/lib/python3.10/dist-packages (from gradio) (0.115.6)\n",
            "Requirement already satisfied: ffmpy in /usr/local/lib/python3.10/dist-packages (from gradio) (0.4.0)\n",
            "Requirement already satisfied: gradio-client==1.5.1 in /usr/local/lib/python3.10/dist-packages (from gradio) (1.5.1)\n",
            "Requirement already satisfied: httpx>=0.24.1 in /usr/local/lib/python3.10/dist-packages (from gradio) (0.27.2)\n",
            "Requirement already satisfied: huggingface-hub>=0.25.1 in /usr/local/lib/python3.10/dist-packages (from gradio) (0.26.3)\n",
            "Requirement already satisfied: jinja2<4.0 in /usr/local/lib/python3.10/dist-packages (from gradio) (3.1.4)\n",
            "Requirement already satisfied: markupsafe~=2.0 in /usr/local/lib/python3.10/dist-packages (from gradio) (2.1.5)\n",
            "Requirement already satisfied: numpy<3.0,>=1.0 in /usr/local/lib/python3.10/dist-packages (from gradio) (1.26.4)\n",
            "Requirement already satisfied: orjson~=3.0 in /usr/local/lib/python3.10/dist-packages (from gradio) (3.10.12)\n",
            "Requirement already satisfied: packaging in /usr/local/lib/python3.10/dist-packages (from gradio) (24.2)\n",
            "Requirement already satisfied: pandas<3.0,>=1.0 in /usr/local/lib/python3.10/dist-packages (from gradio) (2.2.2)\n",
            "Requirement already satisfied: pillow<12.0,>=8.0 in /usr/local/lib/python3.10/dist-packages (from gradio) (11.0.0)\n",
            "Requirement already satisfied: pydantic>=2.0 in /usr/local/lib/python3.10/dist-packages (from gradio) (2.10.3)\n",
            "Requirement already satisfied: pydub in /usr/local/lib/python3.10/dist-packages (from gradio) (0.25.1)\n",
            "Requirement already satisfied: python-multipart>=0.0.18 in /usr/local/lib/python3.10/dist-packages (from gradio) (0.0.19)\n",
            "Requirement already satisfied: pyyaml<7.0,>=5.0 in /usr/local/lib/python3.10/dist-packages (from gradio) (6.0.2)\n",
            "Requirement already satisfied: ruff>=0.2.2 in /usr/local/lib/python3.10/dist-packages (from gradio) (0.8.2)\n",
            "Requirement already satisfied: safehttpx<0.2.0,>=0.1.6 in /usr/local/lib/python3.10/dist-packages (from gradio) (0.1.6)\n",
            "Requirement already satisfied: semantic-version~=2.0 in /usr/local/lib/python3.10/dist-packages (from gradio) (2.10.0)\n",
            "Requirement already satisfied: starlette<1.0,>=0.40.0 in /usr/local/lib/python3.10/dist-packages (from gradio) (0.41.3)\n",
            "Requirement already satisfied: tomlkit<0.14.0,>=0.12.0 in /usr/local/lib/python3.10/dist-packages (from gradio) (0.13.2)\n",
            "Requirement already satisfied: typer<1.0,>=0.12 in /usr/local/lib/python3.10/dist-packages (from gradio) (0.15.0)\n",
            "Requirement already satisfied: typing-extensions~=4.0 in /usr/local/lib/python3.10/dist-packages (from gradio) (4.12.2)\n",
            "Requirement already satisfied: uvicorn>=0.14.0 in /usr/local/lib/python3.10/dist-packages (from gradio) (0.32.1)\n",
            "Requirement already satisfied: fsspec in /usr/local/lib/python3.10/dist-packages (from gradio-client==1.5.1->gradio) (2024.10.0)\n",
            "Requirement already satisfied: websockets<15.0,>=10.0 in /usr/local/lib/python3.10/dist-packages (from gradio-client==1.5.1->gradio) (14.1)\n",
            "Requirement already satisfied: idna>=2.8 in /usr/local/lib/python3.10/dist-packages (from anyio<5.0,>=3.0->gradio) (3.10)\n",
            "Requirement already satisfied: sniffio>=1.1 in /usr/local/lib/python3.10/dist-packages (from anyio<5.0,>=3.0->gradio) (1.3.1)\n",
            "Requirement already satisfied: exceptiongroup in /usr/local/lib/python3.10/dist-packages (from anyio<5.0,>=3.0->gradio) (1.2.2)\n",
            "Requirement already satisfied: certifi in /usr/local/lib/python3.10/dist-packages (from httpx>=0.24.1->gradio) (2024.8.30)\n",
            "Requirement already satisfied: httpcore==1.* in /usr/local/lib/python3.10/dist-packages (from httpx>=0.24.1->gradio) (1.0.7)\n",
            "Requirement already satisfied: h11<0.15,>=0.13 in /usr/local/lib/python3.10/dist-packages (from httpcore==1.*->httpx>=0.24.1->gradio) (0.14.0)\n",
            "Requirement already satisfied: filelock in /usr/local/lib/python3.10/dist-packages (from huggingface-hub>=0.25.1->gradio) (3.16.1)\n",
            "Requirement already satisfied: requests in /usr/local/lib/python3.10/dist-packages (from huggingface-hub>=0.25.1->gradio) (2.32.3)\n",
            "Requirement already satisfied: tqdm>=4.42.1 in /usr/local/lib/python3.10/dist-packages (from huggingface-hub>=0.25.1->gradio) (4.66.6)\n",
            "Requirement already satisfied: python-dateutil>=2.8.2 in /usr/local/lib/python3.10/dist-packages (from pandas<3.0,>=1.0->gradio) (2.8.2)\n",
            "Requirement already satisfied: pytz>=2020.1 in /usr/local/lib/python3.10/dist-packages (from pandas<3.0,>=1.0->gradio) (2024.2)\n",
            "Requirement already satisfied: tzdata>=2022.7 in /usr/local/lib/python3.10/dist-packages (from pandas<3.0,>=1.0->gradio) (2024.2)\n",
            "Requirement already satisfied: annotated-types>=0.6.0 in /usr/local/lib/python3.10/dist-packages (from pydantic>=2.0->gradio) (0.7.0)\n",
            "Requirement already satisfied: pydantic-core==2.27.1 in /usr/local/lib/python3.10/dist-packages (from pydantic>=2.0->gradio) (2.27.1)\n",
            "Requirement already satisfied: click>=8.0.0 in /usr/local/lib/python3.10/dist-packages (from typer<1.0,>=0.12->gradio) (8.1.7)\n",
            "Requirement already satisfied: shellingham>=1.3.0 in /usr/local/lib/python3.10/dist-packages (from typer<1.0,>=0.12->gradio) (1.5.4)\n",
            "Requirement already satisfied: rich>=10.11.0 in /usr/local/lib/python3.10/dist-packages (from typer<1.0,>=0.12->gradio) (13.9.4)\n",
            "Requirement already satisfied: six>=1.5 in /usr/local/lib/python3.10/dist-packages (from python-dateutil>=2.8.2->pandas<3.0,>=1.0->gradio) (1.16.0)\n",
            "Requirement already satisfied: markdown-it-py>=2.2.0 in /usr/local/lib/python3.10/dist-packages (from rich>=10.11.0->typer<1.0,>=0.12->gradio) (3.0.0)\n",
            "Requirement already satisfied: pygments<3.0.0,>=2.13.0 in /usr/local/lib/python3.10/dist-packages (from rich>=10.11.0->typer<1.0,>=0.12->gradio) (2.18.0)\n",
            "Requirement already satisfied: charset-normalizer<4,>=2 in /usr/local/lib/python3.10/dist-packages (from requests->huggingface-hub>=0.25.1->gradio) (3.4.0)\n",
            "Requirement already satisfied: urllib3<3,>=1.21.1 in /usr/local/lib/python3.10/dist-packages (from requests->huggingface-hub>=0.25.1->gradio) (2.2.3)\n",
            "Requirement already satisfied: mdurl~=0.1 in /usr/local/lib/python3.10/dist-packages (from markdown-it-py>=2.2.0->rich>=10.11.0->typer<1.0,>=0.12->gradio) (0.1.2)\n"
          ]
        }
      ]
    },
    {
      "cell_type": "code",
      "source": [
        "import json\n",
        "import gradio as gr\n",
        "from sentence_transformers import SentenceTransformer\n",
        "from transformers import pipeline\n",
        "import faiss\n",
        "import numpy as np\n",
        "\n",
        "# Step 1: Load course data from JSON\n",
        "with open('MIT_Course_Data.json', 'r') as file:\n",
        "    course_data = json.load(file)\n",
        "\n",
        "# Ensure course_data is a list\n",
        "if isinstance(course_data, dict):  # Single course case\n",
        "    course_data = [course_data]\n",
        "\n",
        "# Step 2: Initialize the Retriever Model and Create the FAISS Index\n",
        "retriever_model = SentenceTransformer('all-MiniLM-L6-v2')\n",
        "\n",
        "# Prepare the content for indexing\n",
        "def prepare_content(course_data):\n",
        "    return [\n",
        "        course.get('course_title', '') + ' ' + course.get('course_description', '')\n",
        "        for course in course_data\n",
        "    ]\n",
        "\n",
        "# Create corpus and encode it\n",
        "corpus = prepare_content(course_data)\n",
        "corpus_embeddings = retriever_model.encode(corpus, convert_to_tensor=False)\n",
        "\n",
        "# Create a FAISS index and add embeddings\n",
        "dimension = corpus_embeddings.shape[1]\n",
        "index = faiss.IndexFlatL2(dimension)\n",
        "index.add(corpus_embeddings)\n",
        "\n",
        "# Step 3: Define the Retriever Function\n",
        "def retrieve_content(query, top_k=1):\n",
        "    query_embedding = retriever_model.encode([query], convert_to_tensor=False)\n",
        "    distances, indices = index.search(np.array(query_embedding).astype('float32'), top_k)\n",
        "    results = [corpus[idx] for idx in indices[0]]\n",
        "    return results\n",
        "\n",
        "# Step 4: Define the Generator Function\n",
        "generator = pipeline(\"text2text-generation\", model=\"google/flan-t5-large\", tokenizer=\"google/flan-t5-large\")\n",
        "\n",
        "def generate_response(retrieved_content, query):\n",
        "    prompt = f\"Use the following course content to answer the query:\\n\\n{retrieved_content}\\n\\nQuery: {query}\"\n",
        "    response = generator(prompt, max_length=150, do_sample=False, top_p=0.9, num_return_sequences=1)\n",
        "    return response[0]['generated_text']\n",
        "\n",
        "# Step 5: Create the Gradio Interface\n",
        "def chat_with_rag(query):\n",
        "    retrieved = retrieve_content(query)\n",
        "    if not retrieved:\n",
        "        return \"No relevant content found.\"\n",
        "    response = generate_response(retrieved[0], query)\n",
        "    return response\n",
        "\n",
        "# Create the Gradio interface\n",
        "iface = gr.Interface(\n",
        "    fn=chat_with_rag,\n",
        "    inputs=gr.Textbox(lines=2, placeholder=\"Ask me about the courses...\"),\n",
        "    outputs=\"text\",\n",
        "    title=\"RAG-based Course Chatbot\",\n",
        "    description=\"Ask questions about available courses, and get answers using a Retrieval-Augmented Generation (RAG) pipeline.\"\n",
        ")\n",
        "\n",
        "# Launch the interface\n",
        "iface.launch()\n"
      ],
      "metadata": {
        "colab": {
          "base_uri": "https://localhost:8080/",
          "height": 645
        },
        "id": "4TWvvhW7HZX5",
        "outputId": "c3e15092-a2e5-41cd-a948-0dc1e5bb9e07"
      },
      "execution_count": 92,
      "outputs": [
        {
          "output_type": "stream",
          "name": "stdout",
          "text": [
            "Running Gradio in a Colab notebook requires sharing enabled. Automatically setting `share=True` (you can turn this off by setting `share=False` in `launch()` explicitly).\n",
            "\n",
            "Colab notebook detected. To show errors in colab notebook, set debug=True in launch()\n",
            "* Running on public URL: https://2cb780bda48aa32820.gradio.live\n",
            "\n",
            "This share link expires in 72 hours. For free permanent hosting and GPU upgrades, run `gradio deploy` from the terminal in the working directory to deploy to Hugging Face Spaces (https://huggingface.co/spaces)\n"
          ]
        },
        {
          "output_type": "display_data",
          "data": {
            "text/plain": [
              "<IPython.core.display.HTML object>"
            ],
            "text/html": [
              "<div><iframe src=\"https://2cb780bda48aa32820.gradio.live\" width=\"100%\" height=\"500\" allow=\"autoplay; camera; microphone; clipboard-read; clipboard-write;\" frameborder=\"0\" allowfullscreen></iframe></div>"
            ]
          },
          "metadata": {}
        },
        {
          "output_type": "execute_result",
          "data": {
            "text/plain": []
          },
          "metadata": {},
          "execution_count": 92
        }
      ]
    },
    {
      "cell_type": "code",
      "source": [
        "#import Ollma for RAG\n",
        "\n",
        "import os\n",
        "\n",
        "# Creating the bash script as a string\n",
        "model_name = \"llama3\"  # Replace with your desired model name\n",
        "bash_script = f'''#!/bin/bash\n",
        "\n",
        "# Log file\n",
        "LOG_FILE=\"output.log\"\n",
        "\n",
        "# Function to log and run a command\n",
        "run_command() {{\n",
        "    echo \"$1\" >> \"$LOG_FILE\"\n",
        "    echo \"Running: $1\"\n",
        "    eval $1 >> \"$LOG_FILE\" 2>&1\n",
        "\n",
        "    if [ $? -ne 0 ]; then\n",
        "        echo \"Error running command: $1\" >> \"$LOG_FILE\"\n",
        "    fi\n",
        "}}\n",
        "\n",
        "# Part 1: Run system update and installation commands\n",
        "echo \"Starting system updates and installations...\" | tee -a \"$LOG_FILE\"\n",
        "\n",
        "run_command \"apt update\"\n",
        "run_command \"apt install -y pciutils lshw\"\n",
        "run_command \"curl -fsSL https://ollama.com/install.sh | sh\"\n",
        "\n",
        "# Part 2: Run Ollama server and pull model commands\n",
        "echo \"Starting Ollama server and pulling model...\" | tee -a \"$LOG_FILE\"\n",
        "\n",
        "# Run ollama serve in the background\n",
        "echo \"Started Ollama server...\" | tee -a \"$LOG_FILE\"\n",
        "ollama serve >> \"$LOG_FILE\" 2>&1 &\n",
        "\n",
        "# Sleep for 10 seconds to allow the server to initialize\n",
        "sleep 10\n",
        "\n",
        "# Pull the model (wait for this command to complete)\n",
        "run_command \"ollama pull {model_name}\"\n",
        "\n",
        "echo \"Leave a star if like my work https://github.com/junioralive/ollama-colab\"\n",
        "echo \"All commands executed. Check $LOG_FILE for details.\"\n",
        "'''\n",
        "\n",
        "# Write the bash script to a file\n",
        "with open('script.sh', 'w') as f:\n",
        "    f.write(bash_script)\n",
        "\n",
        "# Make the script executable\n",
        "os.chmod('script.sh', 0o755)\n",
        "\n",
        "print(\"Bash script 'script.sh' created and made executable.\")\n",
        "\n",
        "# Run the bash script\n",
        "!bash script.sh\n"
      ],
      "metadata": {
        "colab": {
          "base_uri": "https://localhost:8080/"
        },
        "id": "zNbfUorMxw_w",
        "outputId": "679115ec-0d1a-4597-b0c2-1c064f1feb04"
      },
      "execution_count": 60,
      "outputs": [
        {
          "output_type": "stream",
          "name": "stdout",
          "text": [
            "Bash script 'script.sh' created and made executable.\n",
            "Starting system updates and installations...\n",
            "Running: apt update\n",
            "Running: apt install -y pciutils lshw\n",
            "Running: curl -fsSL https://ollama.com/install.sh | sh\n",
            "Starting Ollama server and pulling model...\n",
            "Started Ollama server...\n",
            "Running: ollama pull llama3\n",
            "Leave a star if like my work https://github.com/junioralive/ollama-colab\n",
            "All commands executed. Check output.log for details.\n"
          ]
        }
      ]
    },
    {
      "cell_type": "code",
      "source": [
        "# prompt: pip install langchain\n",
        "!pip install ollama langchain-ollama transformers langchain\n",
        "!pip install langchain\n",
        "!pip install langchain_community\n",
        "!pip install faiss-cpu transformers\n"
      ],
      "metadata": {
        "colab": {
          "base_uri": "https://localhost:8080/"
        },
        "id": "0qHOiw7i1Ogr",
        "outputId": "e78e1424-1cf6-49e0-bb5c-36ba0e2c398b"
      },
      "execution_count": 61,
      "outputs": [
        {
          "output_type": "stream",
          "name": "stdout",
          "text": [
            "Requirement already satisfied: ollama in /usr/local/lib/python3.10/dist-packages (0.4.4)\n",
            "Requirement already satisfied: langchain-ollama in /usr/local/lib/python3.10/dist-packages (0.2.1)\n",
            "Requirement already satisfied: transformers in /usr/local/lib/python3.10/dist-packages (4.46.3)\n",
            "Requirement already satisfied: langchain in /usr/local/lib/python3.10/dist-packages (0.3.10)\n",
            "Requirement already satisfied: httpx<0.28.0,>=0.27.0 in /usr/local/lib/python3.10/dist-packages (from ollama) (0.27.2)\n",
            "Requirement already satisfied: pydantic<3.0.0,>=2.9.0 in /usr/local/lib/python3.10/dist-packages (from ollama) (2.10.3)\n",
            "Requirement already satisfied: langchain-core<0.4.0,>=0.3.20 in /usr/local/lib/python3.10/dist-packages (from langchain-ollama) (0.3.22)\n",
            "Requirement already satisfied: filelock in /usr/local/lib/python3.10/dist-packages (from transformers) (3.16.1)\n",
            "Requirement already satisfied: huggingface-hub<1.0,>=0.23.2 in /usr/local/lib/python3.10/dist-packages (from transformers) (0.26.3)\n",
            "Requirement already satisfied: numpy>=1.17 in /usr/local/lib/python3.10/dist-packages (from transformers) (1.26.4)\n",
            "Requirement already satisfied: packaging>=20.0 in /usr/local/lib/python3.10/dist-packages (from transformers) (24.2)\n",
            "Requirement already satisfied: pyyaml>=5.1 in /usr/local/lib/python3.10/dist-packages (from transformers) (6.0.2)\n",
            "Requirement already satisfied: regex!=2019.12.17 in /usr/local/lib/python3.10/dist-packages (from transformers) (2024.9.11)\n",
            "Requirement already satisfied: requests in /usr/local/lib/python3.10/dist-packages (from transformers) (2.32.3)\n",
            "Requirement already satisfied: tokenizers<0.21,>=0.20 in /usr/local/lib/python3.10/dist-packages (from transformers) (0.20.3)\n",
            "Requirement already satisfied: safetensors>=0.4.1 in /usr/local/lib/python3.10/dist-packages (from transformers) (0.4.5)\n",
            "Requirement already satisfied: tqdm>=4.27 in /usr/local/lib/python3.10/dist-packages (from transformers) (4.66.6)\n",
            "Requirement already satisfied: SQLAlchemy<3,>=1.4 in /usr/local/lib/python3.10/dist-packages (from langchain) (2.0.36)\n",
            "Requirement already satisfied: aiohttp<4.0.0,>=3.8.3 in /usr/local/lib/python3.10/dist-packages (from langchain) (3.11.9)\n",
            "Requirement already satisfied: async-timeout<5.0.0,>=4.0.0 in /usr/local/lib/python3.10/dist-packages (from langchain) (4.0.3)\n",
            "Requirement already satisfied: langchain-text-splitters<0.4.0,>=0.3.0 in /usr/local/lib/python3.10/dist-packages (from langchain) (0.3.2)\n",
            "Requirement already satisfied: langsmith<0.2.0,>=0.1.17 in /usr/local/lib/python3.10/dist-packages (from langchain) (0.1.147)\n",
            "Requirement already satisfied: tenacity!=8.4.0,<10,>=8.1.0 in /usr/local/lib/python3.10/dist-packages (from langchain) (9.0.0)\n",
            "Requirement already satisfied: aiohappyeyeballs>=2.3.0 in /usr/local/lib/python3.10/dist-packages (from aiohttp<4.0.0,>=3.8.3->langchain) (2.4.4)\n",
            "Requirement already satisfied: aiosignal>=1.1.2 in /usr/local/lib/python3.10/dist-packages (from aiohttp<4.0.0,>=3.8.3->langchain) (1.3.1)\n",
            "Requirement already satisfied: attrs>=17.3.0 in /usr/local/lib/python3.10/dist-packages (from aiohttp<4.0.0,>=3.8.3->langchain) (24.2.0)\n",
            "Requirement already satisfied: frozenlist>=1.1.1 in /usr/local/lib/python3.10/dist-packages (from aiohttp<4.0.0,>=3.8.3->langchain) (1.5.0)\n",
            "Requirement already satisfied: multidict<7.0,>=4.5 in /usr/local/lib/python3.10/dist-packages (from aiohttp<4.0.0,>=3.8.3->langchain) (6.1.0)\n",
            "Requirement already satisfied: propcache>=0.2.0 in /usr/local/lib/python3.10/dist-packages (from aiohttp<4.0.0,>=3.8.3->langchain) (0.2.1)\n",
            "Requirement already satisfied: yarl<2.0,>=1.17.0 in /usr/local/lib/python3.10/dist-packages (from aiohttp<4.0.0,>=3.8.3->langchain) (1.18.3)\n",
            "Requirement already satisfied: anyio in /usr/local/lib/python3.10/dist-packages (from httpx<0.28.0,>=0.27.0->ollama) (3.7.1)\n",
            "Requirement already satisfied: certifi in /usr/local/lib/python3.10/dist-packages (from httpx<0.28.0,>=0.27.0->ollama) (2024.8.30)\n",
            "Requirement already satisfied: httpcore==1.* in /usr/local/lib/python3.10/dist-packages (from httpx<0.28.0,>=0.27.0->ollama) (1.0.7)\n",
            "Requirement already satisfied: idna in /usr/local/lib/python3.10/dist-packages (from httpx<0.28.0,>=0.27.0->ollama) (3.10)\n",
            "Requirement already satisfied: sniffio in /usr/local/lib/python3.10/dist-packages (from httpx<0.28.0,>=0.27.0->ollama) (1.3.1)\n",
            "Requirement already satisfied: h11<0.15,>=0.13 in /usr/local/lib/python3.10/dist-packages (from httpcore==1.*->httpx<0.28.0,>=0.27.0->ollama) (0.14.0)\n",
            "Requirement already satisfied: fsspec>=2023.5.0 in /usr/local/lib/python3.10/dist-packages (from huggingface-hub<1.0,>=0.23.2->transformers) (2024.10.0)\n",
            "Requirement already satisfied: typing-extensions>=3.7.4.3 in /usr/local/lib/python3.10/dist-packages (from huggingface-hub<1.0,>=0.23.2->transformers) (4.12.2)\n",
            "Requirement already satisfied: jsonpatch<2.0,>=1.33 in /usr/local/lib/python3.10/dist-packages (from langchain-core<0.4.0,>=0.3.20->langchain-ollama) (1.33)\n",
            "Requirement already satisfied: orjson<4.0.0,>=3.9.14 in /usr/local/lib/python3.10/dist-packages (from langsmith<0.2.0,>=0.1.17->langchain) (3.10.12)\n",
            "Requirement already satisfied: requests-toolbelt<2.0.0,>=1.0.0 in /usr/local/lib/python3.10/dist-packages (from langsmith<0.2.0,>=0.1.17->langchain) (1.0.0)\n",
            "Requirement already satisfied: annotated-types>=0.6.0 in /usr/local/lib/python3.10/dist-packages (from pydantic<3.0.0,>=2.9.0->ollama) (0.7.0)\n",
            "Requirement already satisfied: pydantic-core==2.27.1 in /usr/local/lib/python3.10/dist-packages (from pydantic<3.0.0,>=2.9.0->ollama) (2.27.1)\n",
            "Requirement already satisfied: charset-normalizer<4,>=2 in /usr/local/lib/python3.10/dist-packages (from requests->transformers) (3.4.0)\n",
            "Requirement already satisfied: urllib3<3,>=1.21.1 in /usr/local/lib/python3.10/dist-packages (from requests->transformers) (2.2.3)\n",
            "Requirement already satisfied: greenlet!=0.4.17 in /usr/local/lib/python3.10/dist-packages (from SQLAlchemy<3,>=1.4->langchain) (3.1.1)\n",
            "Requirement already satisfied: jsonpointer>=1.9 in /usr/local/lib/python3.10/dist-packages (from jsonpatch<2.0,>=1.33->langchain-core<0.4.0,>=0.3.20->langchain-ollama) (3.0.0)\n",
            "Requirement already satisfied: exceptiongroup in /usr/local/lib/python3.10/dist-packages (from anyio->httpx<0.28.0,>=0.27.0->ollama) (1.2.2)\n",
            "Requirement already satisfied: langchain in /usr/local/lib/python3.10/dist-packages (0.3.10)\n",
            "Requirement already satisfied: PyYAML>=5.3 in /usr/local/lib/python3.10/dist-packages (from langchain) (6.0.2)\n",
            "Requirement already satisfied: SQLAlchemy<3,>=1.4 in /usr/local/lib/python3.10/dist-packages (from langchain) (2.0.36)\n",
            "Requirement already satisfied: aiohttp<4.0.0,>=3.8.3 in /usr/local/lib/python3.10/dist-packages (from langchain) (3.11.9)\n",
            "Requirement already satisfied: async-timeout<5.0.0,>=4.0.0 in /usr/local/lib/python3.10/dist-packages (from langchain) (4.0.3)\n",
            "Requirement already satisfied: langchain-core<0.4.0,>=0.3.22 in /usr/local/lib/python3.10/dist-packages (from langchain) (0.3.22)\n",
            "Requirement already satisfied: langchain-text-splitters<0.4.0,>=0.3.0 in /usr/local/lib/python3.10/dist-packages (from langchain) (0.3.2)\n",
            "Requirement already satisfied: langsmith<0.2.0,>=0.1.17 in /usr/local/lib/python3.10/dist-packages (from langchain) (0.1.147)\n",
            "Requirement already satisfied: numpy<2,>=1.22.4 in /usr/local/lib/python3.10/dist-packages (from langchain) (1.26.4)\n",
            "Requirement already satisfied: pydantic<3.0.0,>=2.7.4 in /usr/local/lib/python3.10/dist-packages (from langchain) (2.10.3)\n",
            "Requirement already satisfied: requests<3,>=2 in /usr/local/lib/python3.10/dist-packages (from langchain) (2.32.3)\n",
            "Requirement already satisfied: tenacity!=8.4.0,<10,>=8.1.0 in /usr/local/lib/python3.10/dist-packages (from langchain) (9.0.0)\n",
            "Requirement already satisfied: aiohappyeyeballs>=2.3.0 in /usr/local/lib/python3.10/dist-packages (from aiohttp<4.0.0,>=3.8.3->langchain) (2.4.4)\n",
            "Requirement already satisfied: aiosignal>=1.1.2 in /usr/local/lib/python3.10/dist-packages (from aiohttp<4.0.0,>=3.8.3->langchain) (1.3.1)\n",
            "Requirement already satisfied: attrs>=17.3.0 in /usr/local/lib/python3.10/dist-packages (from aiohttp<4.0.0,>=3.8.3->langchain) (24.2.0)\n",
            "Requirement already satisfied: frozenlist>=1.1.1 in /usr/local/lib/python3.10/dist-packages (from aiohttp<4.0.0,>=3.8.3->langchain) (1.5.0)\n",
            "Requirement already satisfied: multidict<7.0,>=4.5 in /usr/local/lib/python3.10/dist-packages (from aiohttp<4.0.0,>=3.8.3->langchain) (6.1.0)\n",
            "Requirement already satisfied: propcache>=0.2.0 in /usr/local/lib/python3.10/dist-packages (from aiohttp<4.0.0,>=3.8.3->langchain) (0.2.1)\n",
            "Requirement already satisfied: yarl<2.0,>=1.17.0 in /usr/local/lib/python3.10/dist-packages (from aiohttp<4.0.0,>=3.8.3->langchain) (1.18.3)\n",
            "Requirement already satisfied: jsonpatch<2.0,>=1.33 in /usr/local/lib/python3.10/dist-packages (from langchain-core<0.4.0,>=0.3.22->langchain) (1.33)\n",
            "Requirement already satisfied: packaging<25,>=23.2 in /usr/local/lib/python3.10/dist-packages (from langchain-core<0.4.0,>=0.3.22->langchain) (24.2)\n",
            "Requirement already satisfied: typing-extensions>=4.7 in /usr/local/lib/python3.10/dist-packages (from langchain-core<0.4.0,>=0.3.22->langchain) (4.12.2)\n",
            "Requirement already satisfied: httpx<1,>=0.23.0 in /usr/local/lib/python3.10/dist-packages (from langsmith<0.2.0,>=0.1.17->langchain) (0.27.2)\n",
            "Requirement already satisfied: orjson<4.0.0,>=3.9.14 in /usr/local/lib/python3.10/dist-packages (from langsmith<0.2.0,>=0.1.17->langchain) (3.10.12)\n",
            "Requirement already satisfied: requests-toolbelt<2.0.0,>=1.0.0 in /usr/local/lib/python3.10/dist-packages (from langsmith<0.2.0,>=0.1.17->langchain) (1.0.0)\n",
            "Requirement already satisfied: annotated-types>=0.6.0 in /usr/local/lib/python3.10/dist-packages (from pydantic<3.0.0,>=2.7.4->langchain) (0.7.0)\n",
            "Requirement already satisfied: pydantic-core==2.27.1 in /usr/local/lib/python3.10/dist-packages (from pydantic<3.0.0,>=2.7.4->langchain) (2.27.1)\n",
            "Requirement already satisfied: charset-normalizer<4,>=2 in /usr/local/lib/python3.10/dist-packages (from requests<3,>=2->langchain) (3.4.0)\n",
            "Requirement already satisfied: idna<4,>=2.5 in /usr/local/lib/python3.10/dist-packages (from requests<3,>=2->langchain) (3.10)\n",
            "Requirement already satisfied: urllib3<3,>=1.21.1 in /usr/local/lib/python3.10/dist-packages (from requests<3,>=2->langchain) (2.2.3)\n",
            "Requirement already satisfied: certifi>=2017.4.17 in /usr/local/lib/python3.10/dist-packages (from requests<3,>=2->langchain) (2024.8.30)\n",
            "Requirement already satisfied: greenlet!=0.4.17 in /usr/local/lib/python3.10/dist-packages (from SQLAlchemy<3,>=1.4->langchain) (3.1.1)\n",
            "Requirement already satisfied: anyio in /usr/local/lib/python3.10/dist-packages (from httpx<1,>=0.23.0->langsmith<0.2.0,>=0.1.17->langchain) (3.7.1)\n",
            "Requirement already satisfied: httpcore==1.* in /usr/local/lib/python3.10/dist-packages (from httpx<1,>=0.23.0->langsmith<0.2.0,>=0.1.17->langchain) (1.0.7)\n",
            "Requirement already satisfied: sniffio in /usr/local/lib/python3.10/dist-packages (from httpx<1,>=0.23.0->langsmith<0.2.0,>=0.1.17->langchain) (1.3.1)\n",
            "Requirement already satisfied: h11<0.15,>=0.13 in /usr/local/lib/python3.10/dist-packages (from httpcore==1.*->httpx<1,>=0.23.0->langsmith<0.2.0,>=0.1.17->langchain) (0.14.0)\n",
            "Requirement already satisfied: jsonpointer>=1.9 in /usr/local/lib/python3.10/dist-packages (from jsonpatch<2.0,>=1.33->langchain-core<0.4.0,>=0.3.22->langchain) (3.0.0)\n",
            "Requirement already satisfied: exceptiongroup in /usr/local/lib/python3.10/dist-packages (from anyio->httpx<1,>=0.23.0->langsmith<0.2.0,>=0.1.17->langchain) (1.2.2)\n",
            "Requirement already satisfied: langchain_community in /usr/local/lib/python3.10/dist-packages (0.3.10)\n",
            "Requirement already satisfied: PyYAML>=5.3 in /usr/local/lib/python3.10/dist-packages (from langchain_community) (6.0.2)\n",
            "Requirement already satisfied: SQLAlchemy<3,>=1.4 in /usr/local/lib/python3.10/dist-packages (from langchain_community) (2.0.36)\n",
            "Requirement already satisfied: aiohttp<4.0.0,>=3.8.3 in /usr/local/lib/python3.10/dist-packages (from langchain_community) (3.11.9)\n",
            "Requirement already satisfied: dataclasses-json<0.7,>=0.5.7 in /usr/local/lib/python3.10/dist-packages (from langchain_community) (0.6.7)\n",
            "Requirement already satisfied: httpx-sse<0.5.0,>=0.4.0 in /usr/local/lib/python3.10/dist-packages (from langchain_community) (0.4.0)\n",
            "Requirement already satisfied: langchain<0.4.0,>=0.3.10 in /usr/local/lib/python3.10/dist-packages (from langchain_community) (0.3.10)\n",
            "Requirement already satisfied: langchain-core<0.4.0,>=0.3.22 in /usr/local/lib/python3.10/dist-packages (from langchain_community) (0.3.22)\n",
            "Requirement already satisfied: langsmith<0.2.0,>=0.1.125 in /usr/local/lib/python3.10/dist-packages (from langchain_community) (0.1.147)\n",
            "Requirement already satisfied: numpy<2,>=1.22.4 in /usr/local/lib/python3.10/dist-packages (from langchain_community) (1.26.4)\n",
            "Requirement already satisfied: pydantic-settings<3.0.0,>=2.4.0 in /usr/local/lib/python3.10/dist-packages (from langchain_community) (2.6.1)\n",
            "Requirement already satisfied: requests<3,>=2 in /usr/local/lib/python3.10/dist-packages (from langchain_community) (2.32.3)\n",
            "Requirement already satisfied: tenacity!=8.4.0,<10,>=8.1.0 in /usr/local/lib/python3.10/dist-packages (from langchain_community) (9.0.0)\n",
            "Requirement already satisfied: aiohappyeyeballs>=2.3.0 in /usr/local/lib/python3.10/dist-packages (from aiohttp<4.0.0,>=3.8.3->langchain_community) (2.4.4)\n",
            "Requirement already satisfied: aiosignal>=1.1.2 in /usr/local/lib/python3.10/dist-packages (from aiohttp<4.0.0,>=3.8.3->langchain_community) (1.3.1)\n",
            "Requirement already satisfied: async-timeout<6.0,>=4.0 in /usr/local/lib/python3.10/dist-packages (from aiohttp<4.0.0,>=3.8.3->langchain_community) (4.0.3)\n",
            "Requirement already satisfied: attrs>=17.3.0 in /usr/local/lib/python3.10/dist-packages (from aiohttp<4.0.0,>=3.8.3->langchain_community) (24.2.0)\n",
            "Requirement already satisfied: frozenlist>=1.1.1 in /usr/local/lib/python3.10/dist-packages (from aiohttp<4.0.0,>=3.8.3->langchain_community) (1.5.0)\n",
            "Requirement already satisfied: multidict<7.0,>=4.5 in /usr/local/lib/python3.10/dist-packages (from aiohttp<4.0.0,>=3.8.3->langchain_community) (6.1.0)\n",
            "Requirement already satisfied: propcache>=0.2.0 in /usr/local/lib/python3.10/dist-packages (from aiohttp<4.0.0,>=3.8.3->langchain_community) (0.2.1)\n",
            "Requirement already satisfied: yarl<2.0,>=1.17.0 in /usr/local/lib/python3.10/dist-packages (from aiohttp<4.0.0,>=3.8.3->langchain_community) (1.18.3)\n",
            "Requirement already satisfied: marshmallow<4.0.0,>=3.18.0 in /usr/local/lib/python3.10/dist-packages (from dataclasses-json<0.7,>=0.5.7->langchain_community) (3.23.1)\n",
            "Requirement already satisfied: typing-inspect<1,>=0.4.0 in /usr/local/lib/python3.10/dist-packages (from dataclasses-json<0.7,>=0.5.7->langchain_community) (0.9.0)\n",
            "Requirement already satisfied: langchain-text-splitters<0.4.0,>=0.3.0 in /usr/local/lib/python3.10/dist-packages (from langchain<0.4.0,>=0.3.10->langchain_community) (0.3.2)\n",
            "Requirement already satisfied: pydantic<3.0.0,>=2.7.4 in /usr/local/lib/python3.10/dist-packages (from langchain<0.4.0,>=0.3.10->langchain_community) (2.10.3)\n",
            "Requirement already satisfied: jsonpatch<2.0,>=1.33 in /usr/local/lib/python3.10/dist-packages (from langchain-core<0.4.0,>=0.3.22->langchain_community) (1.33)\n",
            "Requirement already satisfied: packaging<25,>=23.2 in /usr/local/lib/python3.10/dist-packages (from langchain-core<0.4.0,>=0.3.22->langchain_community) (24.2)\n",
            "Requirement already satisfied: typing-extensions>=4.7 in /usr/local/lib/python3.10/dist-packages (from langchain-core<0.4.0,>=0.3.22->langchain_community) (4.12.2)\n",
            "Requirement already satisfied: httpx<1,>=0.23.0 in /usr/local/lib/python3.10/dist-packages (from langsmith<0.2.0,>=0.1.125->langchain_community) (0.27.2)\n",
            "Requirement already satisfied: orjson<4.0.0,>=3.9.14 in /usr/local/lib/python3.10/dist-packages (from langsmith<0.2.0,>=0.1.125->langchain_community) (3.10.12)\n",
            "Requirement already satisfied: requests-toolbelt<2.0.0,>=1.0.0 in /usr/local/lib/python3.10/dist-packages (from langsmith<0.2.0,>=0.1.125->langchain_community) (1.0.0)\n",
            "Requirement already satisfied: python-dotenv>=0.21.0 in /usr/local/lib/python3.10/dist-packages (from pydantic-settings<3.0.0,>=2.4.0->langchain_community) (1.0.1)\n",
            "Requirement already satisfied: charset-normalizer<4,>=2 in /usr/local/lib/python3.10/dist-packages (from requests<3,>=2->langchain_community) (3.4.0)\n",
            "Requirement already satisfied: idna<4,>=2.5 in /usr/local/lib/python3.10/dist-packages (from requests<3,>=2->langchain_community) (3.10)\n",
            "Requirement already satisfied: urllib3<3,>=1.21.1 in /usr/local/lib/python3.10/dist-packages (from requests<3,>=2->langchain_community) (2.2.3)\n",
            "Requirement already satisfied: certifi>=2017.4.17 in /usr/local/lib/python3.10/dist-packages (from requests<3,>=2->langchain_community) (2024.8.30)\n",
            "Requirement already satisfied: greenlet!=0.4.17 in /usr/local/lib/python3.10/dist-packages (from SQLAlchemy<3,>=1.4->langchain_community) (3.1.1)\n",
            "Requirement already satisfied: anyio in /usr/local/lib/python3.10/dist-packages (from httpx<1,>=0.23.0->langsmith<0.2.0,>=0.1.125->langchain_community) (3.7.1)\n",
            "Requirement already satisfied: httpcore==1.* in /usr/local/lib/python3.10/dist-packages (from httpx<1,>=0.23.0->langsmith<0.2.0,>=0.1.125->langchain_community) (1.0.7)\n",
            "Requirement already satisfied: sniffio in /usr/local/lib/python3.10/dist-packages (from httpx<1,>=0.23.0->langsmith<0.2.0,>=0.1.125->langchain_community) (1.3.1)\n",
            "Requirement already satisfied: h11<0.15,>=0.13 in /usr/local/lib/python3.10/dist-packages (from httpcore==1.*->httpx<1,>=0.23.0->langsmith<0.2.0,>=0.1.125->langchain_community) (0.14.0)\n",
            "Requirement already satisfied: jsonpointer>=1.9 in /usr/local/lib/python3.10/dist-packages (from jsonpatch<2.0,>=1.33->langchain-core<0.4.0,>=0.3.22->langchain_community) (3.0.0)\n",
            "Requirement already satisfied: annotated-types>=0.6.0 in /usr/local/lib/python3.10/dist-packages (from pydantic<3.0.0,>=2.7.4->langchain<0.4.0,>=0.3.10->langchain_community) (0.7.0)\n",
            "Requirement already satisfied: pydantic-core==2.27.1 in /usr/local/lib/python3.10/dist-packages (from pydantic<3.0.0,>=2.7.4->langchain<0.4.0,>=0.3.10->langchain_community) (2.27.1)\n",
            "Requirement already satisfied: mypy-extensions>=0.3.0 in /usr/local/lib/python3.10/dist-packages (from typing-inspect<1,>=0.4.0->dataclasses-json<0.7,>=0.5.7->langchain_community) (1.0.0)\n",
            "Requirement already satisfied: exceptiongroup in /usr/local/lib/python3.10/dist-packages (from anyio->httpx<1,>=0.23.0->langsmith<0.2.0,>=0.1.125->langchain_community) (1.2.2)\n",
            "Requirement already satisfied: faiss-cpu in /usr/local/lib/python3.10/dist-packages (1.9.0.post1)\n",
            "Requirement already satisfied: transformers in /usr/local/lib/python3.10/dist-packages (4.46.3)\n",
            "Requirement already satisfied: numpy<3.0,>=1.25.0 in /usr/local/lib/python3.10/dist-packages (from faiss-cpu) (1.26.4)\n",
            "Requirement already satisfied: packaging in /usr/local/lib/python3.10/dist-packages (from faiss-cpu) (24.2)\n",
            "Requirement already satisfied: filelock in /usr/local/lib/python3.10/dist-packages (from transformers) (3.16.1)\n",
            "Requirement already satisfied: huggingface-hub<1.0,>=0.23.2 in /usr/local/lib/python3.10/dist-packages (from transformers) (0.26.3)\n",
            "Requirement already satisfied: pyyaml>=5.1 in /usr/local/lib/python3.10/dist-packages (from transformers) (6.0.2)\n",
            "Requirement already satisfied: regex!=2019.12.17 in /usr/local/lib/python3.10/dist-packages (from transformers) (2024.9.11)\n",
            "Requirement already satisfied: requests in /usr/local/lib/python3.10/dist-packages (from transformers) (2.32.3)\n",
            "Requirement already satisfied: tokenizers<0.21,>=0.20 in /usr/local/lib/python3.10/dist-packages (from transformers) (0.20.3)\n",
            "Requirement already satisfied: safetensors>=0.4.1 in /usr/local/lib/python3.10/dist-packages (from transformers) (0.4.5)\n",
            "Requirement already satisfied: tqdm>=4.27 in /usr/local/lib/python3.10/dist-packages (from transformers) (4.66.6)\n",
            "Requirement already satisfied: fsspec>=2023.5.0 in /usr/local/lib/python3.10/dist-packages (from huggingface-hub<1.0,>=0.23.2->transformers) (2024.10.0)\n",
            "Requirement already satisfied: typing-extensions>=3.7.4.3 in /usr/local/lib/python3.10/dist-packages (from huggingface-hub<1.0,>=0.23.2->transformers) (4.12.2)\n",
            "Requirement already satisfied: charset-normalizer<4,>=2 in /usr/local/lib/python3.10/dist-packages (from requests->transformers) (3.4.0)\n",
            "Requirement already satisfied: idna<4,>=2.5 in /usr/local/lib/python3.10/dist-packages (from requests->transformers) (3.10)\n",
            "Requirement already satisfied: urllib3<3,>=1.21.1 in /usr/local/lib/python3.10/dist-packages (from requests->transformers) (2.2.3)\n",
            "Requirement already satisfied: certifi>=2017.4.17 in /usr/local/lib/python3.10/dist-packages (from requests->transformers) (2024.8.30)\n"
          ]
        }
      ]
    },
    {
      "cell_type": "code",
      "source": [
        "import ollama\n",
        "print(dir(ollama))  # Lists all attributes and functions\n",
        "#help(ollama)        # Provides documentation about the module\n",
        "\n",
        "#from ollama import Generator  # Example: importing a specific class or function\n",
        "#generator = ollama.Generator(model=\"llama3\")  # Adjust based on the actual class\n",
        "\n"
      ],
      "metadata": {
        "colab": {
          "base_uri": "https://localhost:8080/"
        },
        "id": "I2SmB0Upx81F",
        "outputId": "4e9d1140-670c-46b6-d4f0-14910f94e2d6"
      },
      "execution_count": 62,
      "outputs": [
        {
          "output_type": "stream",
          "name": "stdout",
          "text": [
            "['AsyncClient', 'ChatResponse', 'Client', 'EmbedResponse', 'EmbeddingsResponse', 'GenerateResponse', 'ListResponse', 'Message', 'Options', 'ProcessResponse', 'ProgressResponse', 'RequestError', 'ResponseError', 'ShowResponse', 'StatusResponse', 'Tool', '__all__', '__builtins__', '__cached__', '__doc__', '__file__', '__loader__', '__name__', '__package__', '__path__', '__spec__', '_client', '_types', '_utils', 'chat', 'copy', 'create', 'delete', 'embed', 'embeddings', 'generate', 'list', 'ps', 'pull', 'push', 'show']\n"
          ]
        }
      ]
    },
    {
      "cell_type": "code",
      "source": [
        "if hasattr(ollama, 'generate'):\n",
        "    print(\"Found 'generate' function. Try using it.\")\n"
      ],
      "metadata": {
        "colab": {
          "base_uri": "https://localhost:8080/"
        },
        "id": "eV5CC62uTFde",
        "outputId": "fc3bdbf7-15ab-4d7e-c386-3c54eb1edff7"
      },
      "execution_count": 63,
      "outputs": [
        {
          "output_type": "stream",
          "name": "stdout",
          "text": [
            "Found 'generate' function. Try using it.\n"
          ]
        }
      ]
    },
    {
      "cell_type": "code",
      "source": [
        "import time\n",
        "import ollama\n",
        "\n",
        "query = \"What do we learn in Artificial Intelligence course?\"\n",
        "def ollama_generate(retrieved_content, query):\n",
        "    combined_content = \" \".join(retrieved_content)\n",
        "    prompt = f\"Context: {combined_content}\\nQuery: {query}\"\n",
        "    response1 = ollama.generate(model=\"llama3\", prompt=prompt)  # Adjust based on actual API\n",
        "    return response1\n",
        "\n",
        "print(response)\n",
        "\n",
        "\n"
      ],
      "metadata": {
        "colab": {
          "base_uri": "https://localhost:8080/"
        },
        "id": "4WIXitxAEKte",
        "outputId": "1a80e5e1-774a-4796-9637-c0eaa65ef364"
      },
      "execution_count": 64,
      "outputs": [
        {
          "output_type": "stream",
          "name": "stdout",
          "text": [
            "model='llama3' created_at='2024-12-08T08:33:34.238221971Z' done=True done_reason='stop' total_duration=345738822154 load_duration=37260087736 prompt_eval_count=17 prompt_eval_duration=17928000000 eval_count=210 eval_duration=290549000000 response=\"The stars, they twinkle bright,\\nA celestial show, a wondrous sight.\\nLike diamonds scattered across the sky,\\nThey shine with beauty, passing us by.\\n\\nTheir gentle glow, a beacon true,\\nGuides us through life's journey anew.\\nIn the darkness of night's veil,\\nThey stand like sentinels, without fail.\\n\\nWith names and stories, they're told,\\nOf myths and legends, young and old.\\nOrion's belt, a hunter's pride,\\nAndromeda's galaxy, where stars reside.\\n\\nThe constellations, a map so fine,\\nA navigation chart, divine.\\nFor sailors, travelers, and dreamers too,\\nThe stars have been a guiding light or two.\\n\\nTheir soft whisper, a gentle breeze,\\nA reminder of the universe's ease.\\nOf secrets hidden, yet to be told,\\nAnd mysteries that only they behold.\\n\\nSo let us gaze up at the night,\\nAnd marvel at their twinkling light.\\nFor in their beauty, we find our place,\\nAmong the stars, in infinite space.\" context=[128006, 882, 128007, 271, 8144, 264, 33894, 922, 279, 9958, 13, 128009, 128006, 78191, 128007, 271, 791, 9958, 11, 814, 4483, 36244, 10107, 345, 32, 77480, 1501, 11, 264, 289, 94650, 14254, 627, 13246, 49151, 38067, 4028, 279, 13180, 345, 7009, 33505, 449, 13444, 11, 12579, 603, 555, 382, 35897, 22443, 37066, 11, 264, 52402, 837, 345, 17100, 288, 603, 1555, 2324, 596, 11879, 93392, 627, 644, 279, 27394, 315, 3814, 596, 59355, 345, 7009, 2559, 1093, 3288, 258, 2053, 11, 2085, 3775, 382, 2409, 5144, 323, 7493, 11, 814, 2351, 3309, 345, 2173, 51286, 323, 49428, 11, 3995, 323, 2362, 627, 2244, 290, 596, 19671, 11, 264, 40827, 596, 22519, 345, 3112, 442, 14151, 596, 34261, 11, 1405, 9958, 48383, 382, 791, 738, 616, 811, 11, 264, 2472, 779, 7060, 345, 32, 10873, 9676, 11, 30467, 627, 2520, 69938, 11, 40386, 11, 323, 8063, 388, 2288, 345, 791, 9958, 617, 1027, 264, 51346, 3177, 477, 1403, 382, 35897, 8579, 35955, 11, 264, 22443, 46385, 345, 32, 27626, 315, 279, 15861, 596, 14553, 627, 2173, 24511, 8340, 11, 3686, 311, 387, 3309, 345, 3112, 57700, 430, 1193, 814, 57215, 382, 4516, 1095, 603, 36496, 709, 520, 279, 3814, 345, 3112, 45882, 520, 872, 97500, 2785, 3177, 627, 2520, 304, 872, 13444, 11, 584, 1505, 1057, 2035, 345, 34710, 279, 9958, 11, 304, 24746, 3634, 13]\n"
          ]
        }
      ]
    },
    {
      "cell_type": "code",
      "source": [
        "!pip install streamlit gradio"
      ],
      "metadata": {
        "colab": {
          "base_uri": "https://localhost:8080/"
        },
        "id": "C1kuqhfp1KtT",
        "outputId": "90240656-5cbb-42c3-e19b-fa7c10b58def"
      },
      "execution_count": 65,
      "outputs": [
        {
          "output_type": "stream",
          "name": "stdout",
          "text": [
            "Requirement already satisfied: streamlit in /usr/local/lib/python3.10/dist-packages (1.40.2)\n",
            "Requirement already satisfied: gradio in /usr/local/lib/python3.10/dist-packages (5.8.0)\n",
            "Requirement already satisfied: altair<6,>=4.0 in /usr/local/lib/python3.10/dist-packages (from streamlit) (4.2.2)\n",
            "Requirement already satisfied: blinker<2,>=1.0.0 in /usr/local/lib/python3.10/dist-packages (from streamlit) (1.9.0)\n",
            "Requirement already satisfied: cachetools<6,>=4.0 in /usr/local/lib/python3.10/dist-packages (from streamlit) (5.5.0)\n",
            "Requirement already satisfied: click<9,>=7.0 in /usr/local/lib/python3.10/dist-packages (from streamlit) (8.1.7)\n",
            "Requirement already satisfied: numpy<3,>=1.23 in /usr/local/lib/python3.10/dist-packages (from streamlit) (1.26.4)\n",
            "Requirement already satisfied: packaging<25,>=20 in /usr/local/lib/python3.10/dist-packages (from streamlit) (24.2)\n",
            "Requirement already satisfied: pandas<3,>=1.4.0 in /usr/local/lib/python3.10/dist-packages (from streamlit) (2.2.2)\n",
            "Requirement already satisfied: pillow<12,>=7.1.0 in /usr/local/lib/python3.10/dist-packages (from streamlit) (11.0.0)\n",
            "Requirement already satisfied: protobuf<6,>=3.20 in /usr/local/lib/python3.10/dist-packages (from streamlit) (4.25.5)\n",
            "Requirement already satisfied: pyarrow>=7.0 in /usr/local/lib/python3.10/dist-packages (from streamlit) (17.0.0)\n",
            "Requirement already satisfied: requests<3,>=2.27 in /usr/local/lib/python3.10/dist-packages (from streamlit) (2.32.3)\n",
            "Requirement already satisfied: rich<14,>=10.14.0 in /usr/local/lib/python3.10/dist-packages (from streamlit) (13.9.4)\n",
            "Requirement already satisfied: tenacity<10,>=8.1.0 in /usr/local/lib/python3.10/dist-packages (from streamlit) (9.0.0)\n",
            "Requirement already satisfied: toml<2,>=0.10.1 in /usr/local/lib/python3.10/dist-packages (from streamlit) (0.10.2)\n",
            "Requirement already satisfied: typing-extensions<5,>=4.3.0 in /usr/local/lib/python3.10/dist-packages (from streamlit) (4.12.2)\n",
            "Requirement already satisfied: watchdog<7,>=2.1.5 in /usr/local/lib/python3.10/dist-packages (from streamlit) (6.0.0)\n",
            "Requirement already satisfied: gitpython!=3.1.19,<4,>=3.0.7 in /usr/local/lib/python3.10/dist-packages (from streamlit) (3.1.43)\n",
            "Requirement already satisfied: pydeck<1,>=0.8.0b4 in /usr/local/lib/python3.10/dist-packages (from streamlit) (0.9.1)\n",
            "Requirement already satisfied: tornado<7,>=6.0.3 in /usr/local/lib/python3.10/dist-packages (from streamlit) (6.3.3)\n",
            "Requirement already satisfied: aiofiles<24.0,>=22.0 in /usr/local/lib/python3.10/dist-packages (from gradio) (23.2.1)\n",
            "Requirement already satisfied: anyio<5.0,>=3.0 in /usr/local/lib/python3.10/dist-packages (from gradio) (3.7.1)\n",
            "Requirement already satisfied: fastapi<1.0,>=0.115.2 in /usr/local/lib/python3.10/dist-packages (from gradio) (0.115.6)\n",
            "Requirement already satisfied: ffmpy in /usr/local/lib/python3.10/dist-packages (from gradio) (0.4.0)\n",
            "Requirement already satisfied: gradio-client==1.5.1 in /usr/local/lib/python3.10/dist-packages (from gradio) (1.5.1)\n",
            "Requirement already satisfied: httpx>=0.24.1 in /usr/local/lib/python3.10/dist-packages (from gradio) (0.27.2)\n",
            "Requirement already satisfied: huggingface-hub>=0.25.1 in /usr/local/lib/python3.10/dist-packages (from gradio) (0.26.3)\n",
            "Requirement already satisfied: jinja2<4.0 in /usr/local/lib/python3.10/dist-packages (from gradio) (3.1.4)\n",
            "Requirement already satisfied: markupsafe~=2.0 in /usr/local/lib/python3.10/dist-packages (from gradio) (2.1.5)\n",
            "Requirement already satisfied: orjson~=3.0 in /usr/local/lib/python3.10/dist-packages (from gradio) (3.10.12)\n",
            "Requirement already satisfied: pydantic>=2.0 in /usr/local/lib/python3.10/dist-packages (from gradio) (2.10.3)\n",
            "Requirement already satisfied: pydub in /usr/local/lib/python3.10/dist-packages (from gradio) (0.25.1)\n",
            "Requirement already satisfied: python-multipart>=0.0.18 in /usr/local/lib/python3.10/dist-packages (from gradio) (0.0.19)\n",
            "Requirement already satisfied: pyyaml<7.0,>=5.0 in /usr/local/lib/python3.10/dist-packages (from gradio) (6.0.2)\n",
            "Requirement already satisfied: ruff>=0.2.2 in /usr/local/lib/python3.10/dist-packages (from gradio) (0.8.2)\n",
            "Requirement already satisfied: safehttpx<0.2.0,>=0.1.6 in /usr/local/lib/python3.10/dist-packages (from gradio) (0.1.6)\n",
            "Requirement already satisfied: semantic-version~=2.0 in /usr/local/lib/python3.10/dist-packages (from gradio) (2.10.0)\n",
            "Requirement already satisfied: starlette<1.0,>=0.40.0 in /usr/local/lib/python3.10/dist-packages (from gradio) (0.41.3)\n",
            "Requirement already satisfied: tomlkit<0.14.0,>=0.12.0 in /usr/local/lib/python3.10/dist-packages (from gradio) (0.13.2)\n",
            "Requirement already satisfied: typer<1.0,>=0.12 in /usr/local/lib/python3.10/dist-packages (from gradio) (0.15.0)\n",
            "Requirement already satisfied: uvicorn>=0.14.0 in /usr/local/lib/python3.10/dist-packages (from gradio) (0.32.1)\n",
            "Requirement already satisfied: fsspec in /usr/local/lib/python3.10/dist-packages (from gradio-client==1.5.1->gradio) (2024.10.0)\n",
            "Requirement already satisfied: websockets<15.0,>=10.0 in /usr/local/lib/python3.10/dist-packages (from gradio-client==1.5.1->gradio) (14.1)\n",
            "Requirement already satisfied: entrypoints in /usr/local/lib/python3.10/dist-packages (from altair<6,>=4.0->streamlit) (0.4)\n",
            "Requirement already satisfied: jsonschema>=3.0 in /usr/local/lib/python3.10/dist-packages (from altair<6,>=4.0->streamlit) (4.23.0)\n",
            "Requirement already satisfied: toolz in /usr/local/lib/python3.10/dist-packages (from altair<6,>=4.0->streamlit) (0.12.1)\n",
            "Requirement already satisfied: idna>=2.8 in /usr/local/lib/python3.10/dist-packages (from anyio<5.0,>=3.0->gradio) (3.10)\n",
            "Requirement already satisfied: sniffio>=1.1 in /usr/local/lib/python3.10/dist-packages (from anyio<5.0,>=3.0->gradio) (1.3.1)\n",
            "Requirement already satisfied: exceptiongroup in /usr/local/lib/python3.10/dist-packages (from anyio<5.0,>=3.0->gradio) (1.2.2)\n",
            "Requirement already satisfied: gitdb<5,>=4.0.1 in /usr/local/lib/python3.10/dist-packages (from gitpython!=3.1.19,<4,>=3.0.7->streamlit) (4.0.11)\n",
            "Requirement already satisfied: certifi in /usr/local/lib/python3.10/dist-packages (from httpx>=0.24.1->gradio) (2024.8.30)\n",
            "Requirement already satisfied: httpcore==1.* in /usr/local/lib/python3.10/dist-packages (from httpx>=0.24.1->gradio) (1.0.7)\n",
            "Requirement already satisfied: h11<0.15,>=0.13 in /usr/local/lib/python3.10/dist-packages (from httpcore==1.*->httpx>=0.24.1->gradio) (0.14.0)\n",
            "Requirement already satisfied: filelock in /usr/local/lib/python3.10/dist-packages (from huggingface-hub>=0.25.1->gradio) (3.16.1)\n",
            "Requirement already satisfied: tqdm>=4.42.1 in /usr/local/lib/python3.10/dist-packages (from huggingface-hub>=0.25.1->gradio) (4.66.6)\n",
            "Requirement already satisfied: python-dateutil>=2.8.2 in /usr/local/lib/python3.10/dist-packages (from pandas<3,>=1.4.0->streamlit) (2.8.2)\n",
            "Requirement already satisfied: pytz>=2020.1 in /usr/local/lib/python3.10/dist-packages (from pandas<3,>=1.4.0->streamlit) (2024.2)\n",
            "Requirement already satisfied: tzdata>=2022.7 in /usr/local/lib/python3.10/dist-packages (from pandas<3,>=1.4.0->streamlit) (2024.2)\n",
            "Requirement already satisfied: annotated-types>=0.6.0 in /usr/local/lib/python3.10/dist-packages (from pydantic>=2.0->gradio) (0.7.0)\n",
            "Requirement already satisfied: pydantic-core==2.27.1 in /usr/local/lib/python3.10/dist-packages (from pydantic>=2.0->gradio) (2.27.1)\n",
            "Requirement already satisfied: charset-normalizer<4,>=2 in /usr/local/lib/python3.10/dist-packages (from requests<3,>=2.27->streamlit) (3.4.0)\n",
            "Requirement already satisfied: urllib3<3,>=1.21.1 in /usr/local/lib/python3.10/dist-packages (from requests<3,>=2.27->streamlit) (2.2.3)\n",
            "Requirement already satisfied: markdown-it-py>=2.2.0 in /usr/local/lib/python3.10/dist-packages (from rich<14,>=10.14.0->streamlit) (3.0.0)\n",
            "Requirement already satisfied: pygments<3.0.0,>=2.13.0 in /usr/local/lib/python3.10/dist-packages (from rich<14,>=10.14.0->streamlit) (2.18.0)\n",
            "Requirement already satisfied: shellingham>=1.3.0 in /usr/local/lib/python3.10/dist-packages (from typer<1.0,>=0.12->gradio) (1.5.4)\n",
            "Requirement already satisfied: smmap<6,>=3.0.1 in /usr/local/lib/python3.10/dist-packages (from gitdb<5,>=4.0.1->gitpython!=3.1.19,<4,>=3.0.7->streamlit) (5.0.1)\n",
            "Requirement already satisfied: attrs>=22.2.0 in /usr/local/lib/python3.10/dist-packages (from jsonschema>=3.0->altair<6,>=4.0->streamlit) (24.2.0)\n",
            "Requirement already satisfied: jsonschema-specifications>=2023.03.6 in /usr/local/lib/python3.10/dist-packages (from jsonschema>=3.0->altair<6,>=4.0->streamlit) (2024.10.1)\n",
            "Requirement already satisfied: referencing>=0.28.4 in /usr/local/lib/python3.10/dist-packages (from jsonschema>=3.0->altair<6,>=4.0->streamlit) (0.35.1)\n",
            "Requirement already satisfied: rpds-py>=0.7.1 in /usr/local/lib/python3.10/dist-packages (from jsonschema>=3.0->altair<6,>=4.0->streamlit) (0.22.3)\n",
            "Requirement already satisfied: mdurl~=0.1 in /usr/local/lib/python3.10/dist-packages (from markdown-it-py>=2.2.0->rich<14,>=10.14.0->streamlit) (0.1.2)\n",
            "Requirement already satisfied: six>=1.5 in /usr/local/lib/python3.10/dist-packages (from python-dateutil>=2.8.2->pandas<3,>=1.4.0->streamlit) (1.16.0)\n"
          ]
        }
      ]
    },
    {
      "cell_type": "code",
      "source": [
        "import streamlit as st\n",
        "import json\n",
        "from sentence_transformers import SentenceTransformer\n",
        "import faiss\n",
        "from transformers import pipeline\n",
        "from langchain_community.llms import Ollama\n",
        "import numpy as np\n",
        "\n",
        "# Step 1: Load the preprocessed data and initialize retriever and generators\n",
        "@st.cache_resource\n",
        "def initialize():\n",
        "    # Load scraped course data\n",
        "    with open('MIT_Course_Data.json', 'r') as f:\n",
        "        course_data = json.load(f)\n",
        "\n",
        "    # Prepare corpus\n",
        "    def prepare_content(data):\n",
        "        return (\n",
        "            data['course_description'] + \" \" +\n",
        "            \" \".join(data['topics']) + \" \" +\n",
        "            \" \".join(data['learning_resources'])\n",
        "        )\n",
        "    corpus = [prepare_content(course_data)]\n",
        "\n",
        "    # Initialize retriever\n",
        "    retriever_model = SentenceTransformer('all-MiniLM-L6-v2')\n",
        "    embeddings = retriever_model.encode(corpus)\n",
        "    index = faiss.IndexFlatL2(embeddings.shape[1])\n",
        "    index.add(embeddings)\n",
        "\n",
        "    # Initialize generators\n",
        "    t5_generator = pipeline(\"text2text-generation\", model=\"t5-small\", tokenizer=\"t5-small\")\n",
        "    ollama = Ollama(model=\"llama3\")\n",
        "\n",
        "    return retriever_model, index, corpus, t5_generator, ollama\n",
        "\n",
        "retriever_model, index, corpus, t5_generator, ollama = initialize()\n",
        "\n",
        "# Step 2: Define retriever function\n",
        "def retrieve_content(query, top_k=1):\n",
        "    query_embedding = retriever_model.encode([query])\n",
        "    distances, indices = index.search(np.array(query_embedding).astype('float32'), top_k)\n",
        "    return [corpus[idx] for idx in indices[0]]\n",
        "\n",
        "# Step 3: Define generators\n",
        "def t5_generate(retrieved, query):\n",
        "    combined_content = \" \".join(retrieved)\n",
        "    prompt = f\"Answer the query based on the content: {combined_content}. Query: {query}\"\n",
        "    return t5_generator(prompt, max_length=150)[0]['generated_text']\n",
        "\n",
        "def ollama_generate(retrieved, query):\n",
        "    combined_content = \" \".join(retrieved)\n",
        "    prompt = f\"Context: {combined_content}\\nQuery: {query}\"\n",
        "    return ollama(prompt)\n",
        "\n",
        "# Step 4: Define RAG pipeline\n",
        "def rag_pipeline(query, generator_type=\"T5\"):\n",
        "    retrieved = retrieve_content(query)\n",
        "    if generator_type == \"T5\":\n",
        "        return t5_generate(retrieved, query)\n",
        "    elif generator_type == \"Ollama\":\n",
        "        return ollama_generate(retrieved, query)\n",
        "\n",
        "# Step 5: Build Streamlit Interface\n",
        "st.title(\"Course Query Chatbot\")\n",
        "st.write(\"Ask questions about the course content!\")\n",
        "\n",
        "# Input query\n",
        "query = st.text_input(\"Enter your query:\", \"What are the applications of programming languages?\")\n",
        "\n",
        "if st.button(\"Get Response\"):\n",
        "    st.write(\"### T5 Response\")\n",
        "    st.write(rag_pipeline(query, generator_type=\"T5\"))\n",
        "    st.write(\"### Ollama Response\")\n",
        "    st.write(rag_pipeline(query, generator_type=\"Ollama\"))\n"
      ],
      "metadata": {
        "colab": {
          "base_uri": "https://localhost:8080/"
        },
        "id": "-sSWMXi41LsW",
        "outputId": "3f130f8e-7671-4d76-9cd3-ac492106e567"
      },
      "execution_count": 66,
      "outputs": [
        {
          "output_type": "stream",
          "name": "stderr",
          "text": [
            "2024-12-08 08:39:15.418 Thread 'MainThread': missing ScriptRunContext! This warning can be ignored when running in bare mode.\n",
            "2024-12-08 08:39:15.425 Thread 'MainThread': missing ScriptRunContext! This warning can be ignored when running in bare mode.\n",
            "2024-12-08 08:39:15.430 Thread 'MainThread': missing ScriptRunContext! This warning can be ignored when running in bare mode.\n",
            "2024-12-08 08:39:15.446 Thread 'MainThread': missing ScriptRunContext! This warning can be ignored when running in bare mode.\n",
            "2024-12-08 08:39:15.450 Thread 'MainThread': missing ScriptRunContext! This warning can be ignored when running in bare mode.\n",
            "2024-12-08 08:39:15.453 Thread 'MainThread': missing ScriptRunContext! This warning can be ignored when running in bare mode.\n",
            "2024-12-08 08:39:15.456 Thread 'MainThread': missing ScriptRunContext! This warning can be ignored when running in bare mode.\n",
            "2024-12-08 08:39:15.459 Thread 'MainThread': missing ScriptRunContext! This warning can be ignored when running in bare mode.\n",
            "2024-12-08 08:39:15.463 Thread 'MainThread': missing ScriptRunContext! This warning can be ignored when running in bare mode.\n",
            "2024-12-08 08:39:15.466 Thread 'MainThread': missing ScriptRunContext! This warning can be ignored when running in bare mode.\n",
            "2024-12-08 08:39:15.468 Thread 'MainThread': missing ScriptRunContext! This warning can be ignored when running in bare mode.\n",
            "2024-12-08 08:39:15.476 Thread 'MainThread': missing ScriptRunContext! This warning can be ignored when running in bare mode.\n",
            "2024-12-08 08:39:15.478 Thread 'MainThread': missing ScriptRunContext! This warning can be ignored when running in bare mode.\n",
            "2024-12-08 08:39:15.480 Thread 'MainThread': missing ScriptRunContext! This warning can be ignored when running in bare mode.\n",
            "2024-12-08 08:39:15.486 Thread 'MainThread': missing ScriptRunContext! This warning can be ignored when running in bare mode.\n",
            "2024-12-08 08:39:15.489 Thread 'MainThread': missing ScriptRunContext! This warning can be ignored when running in bare mode.\n",
            "2024-12-08 08:39:15.496 Thread 'MainThread': missing ScriptRunContext! This warning can be ignored when running in bare mode.\n",
            "2024-12-08 08:39:15.499 Thread 'MainThread': missing ScriptRunContext! This warning can be ignored when running in bare mode.\n",
            "2024-12-08 08:39:15.501 Thread 'MainThread': missing ScriptRunContext! This warning can be ignored when running in bare mode.\n",
            "2024-12-08 08:39:15.504 Thread 'MainThread': missing ScriptRunContext! This warning can be ignored when running in bare mode.\n",
            "2024-12-08 08:39:15.510 Thread 'MainThread': missing ScriptRunContext! This warning can be ignored when running in bare mode.\n",
            "2024-12-08 08:39:15.514 Thread 'MainThread': missing ScriptRunContext! This warning can be ignored when running in bare mode.\n"
          ]
        }
      ]
    },
    {
      "cell_type": "code",
      "source": [
        "!pip install -U langchain-ollama"
      ],
      "metadata": {
        "colab": {
          "base_uri": "https://localhost:8080/"
        },
        "id": "2jYQu1lI7awV",
        "outputId": "dd55c04d-649a-4068-c407-24bc874f69b8"
      },
      "execution_count": 67,
      "outputs": [
        {
          "output_type": "stream",
          "name": "stdout",
          "text": [
            "Requirement already satisfied: langchain-ollama in /usr/local/lib/python3.10/dist-packages (0.2.1)\n",
            "Requirement already satisfied: langchain-core<0.4.0,>=0.3.20 in /usr/local/lib/python3.10/dist-packages (from langchain-ollama) (0.3.22)\n",
            "Requirement already satisfied: ollama<1,>=0.3.0 in /usr/local/lib/python3.10/dist-packages (from langchain-ollama) (0.4.4)\n",
            "Requirement already satisfied: PyYAML>=5.3 in /usr/local/lib/python3.10/dist-packages (from langchain-core<0.4.0,>=0.3.20->langchain-ollama) (6.0.2)\n",
            "Requirement already satisfied: jsonpatch<2.0,>=1.33 in /usr/local/lib/python3.10/dist-packages (from langchain-core<0.4.0,>=0.3.20->langchain-ollama) (1.33)\n",
            "Requirement already satisfied: langsmith<0.2.0,>=0.1.125 in /usr/local/lib/python3.10/dist-packages (from langchain-core<0.4.0,>=0.3.20->langchain-ollama) (0.1.147)\n",
            "Requirement already satisfied: packaging<25,>=23.2 in /usr/local/lib/python3.10/dist-packages (from langchain-core<0.4.0,>=0.3.20->langchain-ollama) (24.2)\n",
            "Requirement already satisfied: pydantic<3.0.0,>=2.5.2 in /usr/local/lib/python3.10/dist-packages (from langchain-core<0.4.0,>=0.3.20->langchain-ollama) (2.10.3)\n",
            "Requirement already satisfied: tenacity!=8.4.0,<10.0.0,>=8.1.0 in /usr/local/lib/python3.10/dist-packages (from langchain-core<0.4.0,>=0.3.20->langchain-ollama) (9.0.0)\n",
            "Requirement already satisfied: typing-extensions>=4.7 in /usr/local/lib/python3.10/dist-packages (from langchain-core<0.4.0,>=0.3.20->langchain-ollama) (4.12.2)\n",
            "Requirement already satisfied: httpx<0.28.0,>=0.27.0 in /usr/local/lib/python3.10/dist-packages (from ollama<1,>=0.3.0->langchain-ollama) (0.27.2)\n",
            "Requirement already satisfied: anyio in /usr/local/lib/python3.10/dist-packages (from httpx<0.28.0,>=0.27.0->ollama<1,>=0.3.0->langchain-ollama) (3.7.1)\n",
            "Requirement already satisfied: certifi in /usr/local/lib/python3.10/dist-packages (from httpx<0.28.0,>=0.27.0->ollama<1,>=0.3.0->langchain-ollama) (2024.8.30)\n",
            "Requirement already satisfied: httpcore==1.* in /usr/local/lib/python3.10/dist-packages (from httpx<0.28.0,>=0.27.0->ollama<1,>=0.3.0->langchain-ollama) (1.0.7)\n",
            "Requirement already satisfied: idna in /usr/local/lib/python3.10/dist-packages (from httpx<0.28.0,>=0.27.0->ollama<1,>=0.3.0->langchain-ollama) (3.10)\n",
            "Requirement already satisfied: sniffio in /usr/local/lib/python3.10/dist-packages (from httpx<0.28.0,>=0.27.0->ollama<1,>=0.3.0->langchain-ollama) (1.3.1)\n",
            "Requirement already satisfied: h11<0.15,>=0.13 in /usr/local/lib/python3.10/dist-packages (from httpcore==1.*->httpx<0.28.0,>=0.27.0->ollama<1,>=0.3.0->langchain-ollama) (0.14.0)\n",
            "Requirement already satisfied: jsonpointer>=1.9 in /usr/local/lib/python3.10/dist-packages (from jsonpatch<2.0,>=1.33->langchain-core<0.4.0,>=0.3.20->langchain-ollama) (3.0.0)\n",
            "Requirement already satisfied: orjson<4.0.0,>=3.9.14 in /usr/local/lib/python3.10/dist-packages (from langsmith<0.2.0,>=0.1.125->langchain-core<0.4.0,>=0.3.20->langchain-ollama) (3.10.12)\n",
            "Requirement already satisfied: requests<3,>=2 in /usr/local/lib/python3.10/dist-packages (from langsmith<0.2.0,>=0.1.125->langchain-core<0.4.0,>=0.3.20->langchain-ollama) (2.32.3)\n",
            "Requirement already satisfied: requests-toolbelt<2.0.0,>=1.0.0 in /usr/local/lib/python3.10/dist-packages (from langsmith<0.2.0,>=0.1.125->langchain-core<0.4.0,>=0.3.20->langchain-ollama) (1.0.0)\n",
            "Requirement already satisfied: annotated-types>=0.6.0 in /usr/local/lib/python3.10/dist-packages (from pydantic<3.0.0,>=2.5.2->langchain-core<0.4.0,>=0.3.20->langchain-ollama) (0.7.0)\n",
            "Requirement already satisfied: pydantic-core==2.27.1 in /usr/local/lib/python3.10/dist-packages (from pydantic<3.0.0,>=2.5.2->langchain-core<0.4.0,>=0.3.20->langchain-ollama) (2.27.1)\n",
            "Requirement already satisfied: charset-normalizer<4,>=2 in /usr/local/lib/python3.10/dist-packages (from requests<3,>=2->langsmith<0.2.0,>=0.1.125->langchain-core<0.4.0,>=0.3.20->langchain-ollama) (3.4.0)\n",
            "Requirement already satisfied: urllib3<3,>=1.21.1 in /usr/local/lib/python3.10/dist-packages (from requests<3,>=2->langsmith<0.2.0,>=0.1.125->langchain-core<0.4.0,>=0.3.20->langchain-ollama) (2.2.3)\n",
            "Requirement already satisfied: exceptiongroup in /usr/local/lib/python3.10/dist-packages (from anyio->httpx<0.28.0,>=0.27.0->ollama<1,>=0.3.0->langchain-ollama) (1.2.2)\n"
          ]
        }
      ]
    },
    {
      "cell_type": "code",
      "source": [
        "from langchain_ollama import OllamaLLM"
      ],
      "metadata": {
        "id": "pTKFulkC7e-c"
      },
      "execution_count": 68,
      "outputs": []
    },
    {
      "cell_type": "code",
      "source": [
        "from langchain_ollama import OllamaLLM\n",
        "\n",
        "# Initialize the model\n",
        "ollama_llm = OllamaLLM(model=\"llama3\")\n",
        "\n",
        "# Example query\n",
        "query = \"What do we learn in Artificial Intelligence course?\"\n",
        "\n",
        "# Prepare the input as a dictionary in the format expected by the 'invoke' method\n",
        "input_data = {\"input\": query}\n",
        "\n",
        "# Generate response using the 'invoke' method with the formatted input\n",
        "response = ollama_llm.invoke(input_data)\n",
        "\n",
        "# Display the response\n",
        "print(response)\n"
      ],
      "metadata": {
        "colab": {
          "base_uri": "https://localhost:8080/",
          "height": 356
        },
        "id": "DWb6XcCm7gkj",
        "outputId": "60738225-7656-4182-d0b8-91c494c02c1f"
      },
      "execution_count": 69,
      "outputs": [
        {
          "output_type": "error",
          "ename": "ValueError",
          "evalue": "Invalid input type <class 'dict'>. Must be a PromptValue, str, or list of BaseMessages.",
          "traceback": [
            "\u001b[0;31m---------------------------------------------------------------------------\u001b[0m",
            "\u001b[0;31mValueError\u001b[0m                                Traceback (most recent call last)",
            "\u001b[0;32m<ipython-input-69-7e9195e12110>\u001b[0m in \u001b[0;36m<cell line: 13>\u001b[0;34m()\u001b[0m\n\u001b[1;32m     11\u001b[0m \u001b[0;34m\u001b[0m\u001b[0m\n\u001b[1;32m     12\u001b[0m \u001b[0;31m# Generate response using the 'invoke' method with the formatted input\u001b[0m\u001b[0;34m\u001b[0m\u001b[0;34m\u001b[0m\u001b[0m\n\u001b[0;32m---> 13\u001b[0;31m \u001b[0mresponse\u001b[0m \u001b[0;34m=\u001b[0m \u001b[0mollama_llm\u001b[0m\u001b[0;34m.\u001b[0m\u001b[0minvoke\u001b[0m\u001b[0;34m(\u001b[0m\u001b[0minput_data\u001b[0m\u001b[0;34m)\u001b[0m\u001b[0;34m\u001b[0m\u001b[0;34m\u001b[0m\u001b[0m\n\u001b[0m\u001b[1;32m     14\u001b[0m \u001b[0;34m\u001b[0m\u001b[0m\n\u001b[1;32m     15\u001b[0m \u001b[0;31m# Display the response\u001b[0m\u001b[0;34m\u001b[0m\u001b[0;34m\u001b[0m\u001b[0m\n",
            "\u001b[0;32m/usr/local/lib/python3.10/dist-packages/langchain_core/language_models/llms.py\u001b[0m in \u001b[0;36minvoke\u001b[0;34m(self, input, config, stop, **kwargs)\u001b[0m\n\u001b[1;32m    389\u001b[0m         return (\n\u001b[1;32m    390\u001b[0m             self.generate_prompt(\n\u001b[0;32m--> 391\u001b[0;31m                 \u001b[0;34m[\u001b[0m\u001b[0mself\u001b[0m\u001b[0;34m.\u001b[0m\u001b[0m_convert_input\u001b[0m\u001b[0;34m(\u001b[0m\u001b[0minput\u001b[0m\u001b[0;34m)\u001b[0m\u001b[0;34m]\u001b[0m\u001b[0;34m,\u001b[0m\u001b[0;34m\u001b[0m\u001b[0;34m\u001b[0m\u001b[0m\n\u001b[0m\u001b[1;32m    392\u001b[0m                 \u001b[0mstop\u001b[0m\u001b[0;34m=\u001b[0m\u001b[0mstop\u001b[0m\u001b[0;34m,\u001b[0m\u001b[0;34m\u001b[0m\u001b[0;34m\u001b[0m\u001b[0m\n\u001b[1;32m    393\u001b[0m                 \u001b[0mcallbacks\u001b[0m\u001b[0;34m=\u001b[0m\u001b[0mconfig\u001b[0m\u001b[0;34m.\u001b[0m\u001b[0mget\u001b[0m\u001b[0;34m(\u001b[0m\u001b[0;34m\"callbacks\"\u001b[0m\u001b[0;34m)\u001b[0m\u001b[0;34m,\u001b[0m\u001b[0;34m\u001b[0m\u001b[0;34m\u001b[0m\u001b[0m\n",
            "\u001b[0;32m/usr/local/lib/python3.10/dist-packages/langchain_core/language_models/llms.py\u001b[0m in \u001b[0;36m_convert_input\u001b[0;34m(self, input)\u001b[0m\n\u001b[1;32m    339\u001b[0m                 \u001b[0;34m\"Must be a PromptValue, str, or list of BaseMessages.\"\u001b[0m\u001b[0;34m\u001b[0m\u001b[0;34m\u001b[0m\u001b[0m\n\u001b[1;32m    340\u001b[0m             )\n\u001b[0;32m--> 341\u001b[0;31m             \u001b[0;32mraise\u001b[0m \u001b[0mValueError\u001b[0m\u001b[0;34m(\u001b[0m\u001b[0mmsg\u001b[0m\u001b[0;34m)\u001b[0m\u001b[0;34m\u001b[0m\u001b[0;34m\u001b[0m\u001b[0m\n\u001b[0m\u001b[1;32m    342\u001b[0m \u001b[0;34m\u001b[0m\u001b[0m\n\u001b[1;32m    343\u001b[0m     def _get_ls_params(\n",
            "\u001b[0;31mValueError\u001b[0m: Invalid input type <class 'dict'>. Must be a PromptValue, str, or list of BaseMessages."
          ]
        }
      ]
    }
  ]
}